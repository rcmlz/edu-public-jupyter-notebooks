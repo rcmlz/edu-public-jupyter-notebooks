{
 "cells": [
  {
   "cell_type": "markdown",
   "id": "e9714c04-a278-4979-8e93-6dab473a77e9",
   "metadata": {
    "editable": true,
    "slideshow": {
     "slide_type": "slide"
    },
    "tags": []
   },
   "source": [
    "# Aufgabenstellung"
   ]
  },
  {
   "cell_type": "markdown",
   "id": "adcdc41b-ac28-4bea-88d0-69ce57ac978c",
   "metadata": {},
   "source": [
    "Analysieren Sie die Daten zum Gewicht.\n",
    "\n",
    "- Wie gross ist das Durchschnittsgewicht jeder Person, wenn Sie über die drei Messungen mitteln. \n",
    "- Wieviel wiegen männliche und weibliche Personen im Durschnitt\n",
    "\n",
    "Erstellen Sie einige aussagekräftige Grafiken aus den Daten. Testen Sie\n",
    "\n",
    "- Balkendiagramm\n",
    "- Liniendiagramm\n",
    "- Scatterplot\n",
    "- ...\n",
    "\n",
    "Verwenden Sie dieses Notebook für eine ansprechende Präsentation unter Reveal.js.\n",
    "\n",
    "Welches Format der Rohdaten - [wide oder long](https://de.wikipedia.org/wiki/Wide-Format_und_Long-Format) - ist besser für die Analyse geeignet?"
   ]
  },
  {
   "cell_type": "markdown",
   "id": "5ffeae50-8b58-457d-8683-0ca9531c4154",
   "metadata": {
    "editable": true,
    "slideshow": {
     "slide_type": "slide"
    },
    "tags": []
   },
   "source": [
    "# Daten einlesen"
   ]
  },
  {
   "cell_type": "code",
   "execution_count": null,
   "id": "ebef257b-dd07-451b-a8cf-003be13e171d",
   "metadata": {},
   "outputs": [],
   "source": []
  },
  {
   "cell_type": "markdown",
   "id": "f13b1850-a527-4023-b3f9-4dbb7c715254",
   "metadata": {
    "editable": true,
    "slideshow": {
     "slide_type": "slide"
    },
    "tags": []
   },
   "source": [
    "# Daten verarbeiten"
   ]
  },
  {
   "cell_type": "code",
   "execution_count": null,
   "id": "b677c088-1ec3-4a91-8486-bcb2575737f7",
   "metadata": {},
   "outputs": [],
   "source": []
  },
  {
   "cell_type": "markdown",
   "id": "1d5d78f6-252a-4df0-8d32-22dccebbe170",
   "metadata": {
    "editable": true,
    "slideshow": {
     "slide_type": "slide"
    },
    "tags": []
   },
   "source": [
    "# Ergebnisse darstellen"
   ]
  },
  {
   "cell_type": "code",
   "execution_count": null,
   "id": "4e835a8c-bff6-434d-99e9-0a36722f3f03",
   "metadata": {},
   "outputs": [],
   "source": []
  }
 ],
 "metadata": {
  "authors": [
   {
    "name": "Jane Doe"
   }
  ],
  "kernelspec": {
   "display_name": "Python 3 (ipykernel)",
   "language": "python",
   "name": "python3"
  },
  "language_info": {
   "codemirror_mode": {
    "name": "ipython",
    "version": 3
   },
   "file_extension": ".py",
   "mimetype": "text/x-python",
   "name": "python",
   "nbconvert_exporter": "python",
   "pygments_lexer": "ipython3",
   "version": "3.11.10"
  },
  "title": "Iris Datensatz Analyse"
 },
 "nbformat": 4,
 "nbformat_minor": 5
}
