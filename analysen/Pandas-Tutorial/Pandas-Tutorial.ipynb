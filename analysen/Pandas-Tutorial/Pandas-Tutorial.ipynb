{
 "cells": [
  {
   "cell_type": "markdown",
   "id": "5d991e68-30a9-4875-af33-a3f2ad286771",
   "metadata": {
    "editable": true,
    "slideshow": {
     "slide_type": "slide"
    },
    "tags": []
   },
   "source": [
    "# Pandas Tutorial\n",
    "\n",
    "https://pandas.pydata.org/docs/getting_started/intro_tutorials\n"
   ]
  },
  {
   "cell_type": "code",
   "execution_count": null,
   "id": "9445e226-648c-4d28-a976-6262ba17033b",
   "metadata": {
    "editable": true,
    "slideshow": {
     "slide_type": ""
    },
    "tags": []
   },
   "outputs": [],
   "source": [
    "import pandas as pd"
   ]
  },
  {
   "cell_type": "markdown",
   "id": "8cef9151-fdb4-4ddd-83ce-b35b97762cc7",
   "metadata": {
    "editable": true,
    "slideshow": {
     "slide_type": "notes"
    },
    "tags": []
   },
   "source": [
    "Pandas ist eine Python-Bibliothek, mit der sehr leicht Daten analysiert und dargestellt werden können. Zusammen mit Jupyter ist das quasi wie Word, Excel und Powerpoint zusammen und ist besonders geeignet für Data Scientists und alle anderen Menschen, die empirische (quantitative) Analysen auf grossen Datenmengen reproduzierbar und zuverlässig durchführen müssen/wollen/können."
   ]
  },
  {
   "cell_type": "markdown",
   "id": "5aa088f6-f457-4ef9-8160-5aea70427bdd",
   "metadata": {
    "editable": true,
    "slideshow": {
     "slide_type": "skip"
    },
    "tags": []
   },
   "source": [
    "Tipp: öffne das Inhaltsverzeichnis auf der linken Seitenleiste - Easy Navigation!"
   ]
  },
  {
   "cell_type": "markdown",
   "id": "934eeea2-9223-4ca5-a770-383c4b020ee0",
   "metadata": {
    "editable": true,
    "slideshow": {
     "slide_type": "subslide"
    },
    "tags": []
   },
   "source": [
    "### Die Daily-Routine des Data-Scientists\n",
    "- Daten einlesen\n",
    "- Daten validieren und bereinigen\n",
    "- Berechnungen durchführen\n",
    "  - deskriptive Statistik (min, max, mean, median, ...)\n",
    "  - induktive Statistik (Hypothesen und Modelle)\n",
    "  - erkundende Statistik (explorative Datenanalyse, Big Data, AI)\n",
    "- Ergebnisse visualisieren\n",
    "- Ergebnisse präsentieren"
   ]
  },
  {
   "cell_type": "markdown",
   "id": "1c486900-7143-4dc9-a888-bd54db3407bb",
   "metadata": {
    "editable": true,
    "slideshow": {
     "slide_type": "notes"
    },
    "tags": []
   },
   "source": [
    "Ob medizinische, biolologische, soziologische, psychologische oder technische Fragestellungen quantitativ (empirisch) untersucht werden sollen - das Vorgehen ist immer ähnlich.\n",
    "\n",
    "i.d.R. sehr zeitaufwändig: die Rohdaten besorgen, verstehen, validieren und bereinigen.\n",
    "\n",
    "CSV-Files sind wohl der einfachste Weg, (grosse) Datenmengen sicher auszutauschen - Comma Separated Values"
   ]
  },
  {
   "cell_type": "markdown",
   "id": "3a8742fc-6eaa-4680-bb97-87001986a0e3",
   "metadata": {
    "editable": true,
    "slideshow": {
     "slide_type": "slide"
    },
    "tags": []
   },
   "source": [
    "![01_table_dataframe.svg](img/01_table_dataframe.svg)"
   ]
  },
  {
   "cell_type": "markdown",
   "id": "2fcf4a72-7a24-44bd-bc53-4f46279a0dd7",
   "metadata": {
    "editable": true,
    "slideshow": {
     "slide_type": "notes"
    },
    "tags": []
   },
   "source": [
    "Wie in Excel gibt es Spalten und Zeilen."
   ]
  },
  {
   "cell_type": "markdown",
   "id": "e875c329-ba4d-48c7-bd97-fb0ebad36ff8",
   "metadata": {
    "editable": true,
    "slideshow": {
     "slide_type": "slide"
    },
    "tags": []
   },
   "source": [
    "## Daten Einlesen"
   ]
  },
  {
   "cell_type": "markdown",
   "id": "7672a1dc-f424-43eb-b38a-6dfbe7b40ccb",
   "metadata": {
    "editable": true,
    "slideshow": {
     "slide_type": "subslide"
    },
    "tags": []
   },
   "source": [
    "### aus einer lokalen Datei"
   ]
  },
  {
   "cell_type": "code",
   "execution_count": null,
   "id": "22dcbdfe-2836-413b-bb2e-475c9144c535",
   "metadata": {
    "editable": true,
    "slideshow": {
     "slide_type": ""
    },
    "tags": []
   },
   "outputs": [],
   "source": [
    "titanic = pd.read_csv(\"data/titanic.csv\")"
   ]
  },
  {
   "cell_type": "markdown",
   "id": "4acb04b1-9f29-44b6-ad11-dd5fc4f5e13a",
   "metadata": {
    "editable": true,
    "slideshow": {
     "slide_type": "subslide"
    },
    "tags": []
   },
   "source": [
    "### oder direkt aus dem Netz ..."
   ]
  },
  {
   "cell_type": "code",
   "execution_count": null,
   "id": "da624737-e2d3-41a2-b631-37abffb9bbbe",
   "metadata": {
    "editable": true,
    "slideshow": {
     "slide_type": ""
    },
    "tags": []
   },
   "outputs": [],
   "source": [
    "titanic = pd.read_csv(\"https://link.melzian.ch/titanic\")"
   ]
  },
  {
   "cell_type": "markdown",
   "id": "ea16bda5-2f8e-4d8e-bb26-ddee3a269ce9",
   "metadata": {
    "editable": true,
    "slideshow": {
     "slide_type": "notes"
    },
    "tags": []
   },
   "source": [
    "Dies ist ein für diese Präsentation verkürzter Link auf\n",
    "https://raw.githubusercontent.com/pandas-dev/pandas/refs/heads/main/doc/data/titanic.csv"
   ]
  },
  {
   "cell_type": "markdown",
   "id": "c87e2b87-1f3f-40ea-889c-6a99bfadc52b",
   "metadata": {
    "editable": true,
    "slideshow": {
     "slide_type": "subslide"
    },
    "tags": []
   },
   "source": [
    "Weitere Testdaten für Pandas findest du hier: https://github.com/pandas-dev/pandas/tree/main/doc/data\n",
    "\n",
    "Wenn möglich alle Rohdaten lokal speichern. Warum? Wegen der Reproduzierbarkeit!"
   ]
  },
  {
   "cell_type": "markdown",
   "id": "8f0207e0-ec9c-4f38-a532-899396306bff",
   "metadata": {
    "editable": true,
    "slideshow": {
     "slide_type": "slide"
    },
    "tags": []
   },
   "source": [
    "## die Rohdaten anzeigen"
   ]
  },
  {
   "cell_type": "code",
   "execution_count": null,
   "id": "841d7443-ed51-48cf-a14d-b26ae9f59980",
   "metadata": {
    "editable": true,
    "slideshow": {
     "slide_type": ""
    },
    "tags": []
   },
   "outputs": [],
   "source": [
    "titanic.describe()"
   ]
  },
  {
   "cell_type": "markdown",
   "id": "d1230ba5-b53e-4cd0-93a9-da3458d958ef",
   "metadata": {
    "editable": true,
    "slideshow": {
     "slide_type": "notes"
    },
    "tags": []
   },
   "source": [
    "alles auf einen Blick"
   ]
  },
  {
   "cell_type": "markdown",
   "id": "72eecd63-5e96-4847-b8bc-a25f456f0f5e",
   "metadata": {
    "editable": true,
    "slideshow": {
     "slide_type": "slide"
    },
    "tags": []
   },
   "source": [
    "## und dann Berechnungen anstellen"
   ]
  },
  {
   "cell_type": "markdown",
   "id": "2127c665-ee9e-45ce-80b0-4df91aaa4cd5",
   "metadata": {
    "editable": true,
    "slideshow": {
     "slide_type": ""
    },
    "tags": []
   },
   "source": [
    "to do"
   ]
  },
  {
   "cell_type": "markdown",
   "id": "68673e2d-ddf4-49c9-b2be-9bcb2edee371",
   "metadata": {
    "editable": true,
    "slideshow": {
     "slide_type": ""
    },
    "tags": []
   },
   "source": [
    "### Zeilenweise"
   ]
  },
  {
   "cell_type": "markdown",
   "id": "2c097a5a-45b6-4a97-88ba-756769ff7d9b",
   "metadata": {
    "editable": true,
    "slideshow": {
     "slide_type": ""
    },
    "tags": []
   },
   "source": [
    "to do"
   ]
  },
  {
   "cell_type": "markdown",
   "id": "26dc4d4c-7518-4421-bd6d-76db2d7a01d3",
   "metadata": {
    "editable": true,
    "slideshow": {
     "slide_type": ""
    },
    "tags": []
   },
   "source": [
    "### Spaltenweise"
   ]
  },
  {
   "cell_type": "markdown",
   "id": "3d7d20d8-32ec-45e7-997e-ad8b53f97a89",
   "metadata": {
    "editable": true,
    "slideshow": {
     "slide_type": ""
    },
    "tags": []
   },
   "source": [
    "to do"
   ]
  },
  {
   "cell_type": "markdown",
   "id": "a1765cc2-2873-434c-abb9-3d18d724dc4b",
   "metadata": {
    "editable": true,
    "slideshow": {
     "slide_type": ""
    },
    "tags": []
   },
   "source": [
    "### Aggregieren"
   ]
  },
  {
   "cell_type": "markdown",
   "id": "a5df1f96-84f0-4c08-9141-38bcd56585cf",
   "metadata": {
    "editable": true,
    "slideshow": {
     "slide_type": ""
    },
    "tags": []
   },
   "source": [
    "to to"
   ]
  },
  {
   "cell_type": "markdown",
   "id": "104118e9-c654-4b87-b814-b483ed2a8736",
   "metadata": {
    "editable": true,
    "slideshow": {
     "slide_type": "slide"
    },
    "tags": []
   },
   "source": [
    "## aussagekräftig Plotten\n",
    "\n",
    "Ein Bild sagt ja bekanntlich mehr als tausend Worte"
   ]
  },
  {
   "cell_type": "markdown",
   "id": "702aa39e-2cc9-46da-9d8a-5736a8eb7bec",
   "metadata": {
    "editable": true,
    "slideshow": {
     "slide_type": "subslide"
    },
    "tags": []
   },
   "source": [
    "### Barplots"
   ]
  },
  {
   "cell_type": "code",
   "execution_count": null,
   "id": "c0989875-a9da-4d52-bf19-8d7002cb639a",
   "metadata": {
    "editable": true,
    "slideshow": {
     "slide_type": ""
    },
    "tags": []
   },
   "outputs": [],
   "source": [
    "img = titanic.groupby('Pclass')['Age'].mean()\\\n",
    "             .plot.bar(title=\"Durchschnittsalter pro Passagierklasse\")"
   ]
  },
  {
   "cell_type": "markdown",
   "id": "78041781-c93f-45fb-ac4e-9e196571ea8c",
   "metadata": {
    "editable": true,
    "slideshow": {
     "slide_type": "notes"
    },
    "tags": []
   },
   "source": [
    "Manchmal müssen wir vor dem Plotten noch etwas berechnen, hier bspw. das Durchschnittsalter aller Passagiere pro Klasse.\n",
    "\n",
    "Balkendiagramm? Wie langweilig! Geht das besser? Klar, mit [Boxplots](https://de.wikipedia.org/wiki/Box-Plot) (kommt später)"
   ]
  },
  {
   "cell_type": "markdown",
   "id": "1b160bc4-883e-4124-9402-2f3761f99995",
   "metadata": {
    "editable": true,
    "slideshow": {
     "slide_type": "subslide"
    },
    "tags": []
   },
   "source": [
    "Ein Bild in einer Datei speichern"
   ]
  },
  {
   "cell_type": "code",
   "execution_count": null,
   "id": "55194340-8d2a-4df5-97fd-7788e24a7822",
   "metadata": {
    "editable": true,
    "slideshow": {
     "slide_type": ""
    },
    "tags": []
   },
   "outputs": [],
   "source": [
    "img.get_figure().savefig('img/barplot.svg') "
   ]
  },
  {
   "cell_type": "markdown",
   "id": "09eb1fa3-2d40-4ff2-bd31-cd0c25216d69",
   "metadata": {
    "editable": true,
    "slideshow": {
     "slide_type": "notes"
    },
    "tags": []
   },
   "source": [
    "So können die Grafiken auch leicht in PowerPoint, [Prezi](https://prezi.com) u.A. Präsentationsprogrammen weiterverwendet werden. "
   ]
  },
  {
   "cell_type": "markdown",
   "id": "b88fc418-8413-46cb-8bfd-2c7a32e38736",
   "metadata": {
    "editable": true,
    "slideshow": {
     "slide_type": "subslide"
    },
    "tags": []
   },
   "source": [
    "### Lineplots"
   ]
  },
  {
   "cell_type": "markdown",
   "id": "4cd0c545-2b3f-450a-9230-af9f40e86ccf",
   "metadata": {
    "editable": true,
    "slideshow": {
     "slide_type": ""
    },
    "tags": []
   },
   "source": [
    "to do"
   ]
  },
  {
   "cell_type": "markdown",
   "id": "fbb049fe-d622-4827-be73-e0c38b4ff6e9",
   "metadata": {
    "editable": true,
    "slideshow": {
     "slide_type": "subslide"
    },
    "tags": []
   },
   "source": [
    "### Scatterplots"
   ]
  },
  {
   "cell_type": "markdown",
   "id": "788273d4-71c6-4abc-885a-7d92d38c5a3a",
   "metadata": {
    "editable": true,
    "slideshow": {
     "slide_type": ""
    },
    "tags": []
   },
   "source": [
    "to do"
   ]
  },
  {
   "cell_type": "markdown",
   "id": "dd669804-d456-410d-973d-98fa4c044731",
   "metadata": {
    "editable": true,
    "slideshow": {
     "slide_type": "subslide"
    },
    "tags": []
   },
   "source": [
    "### Boxplots"
   ]
  },
  {
   "cell_type": "code",
   "execution_count": null,
   "id": "34c873bc-2da9-454b-9029-599863a275ef",
   "metadata": {
    "editable": true,
    "slideshow": {
     "slide_type": ""
    },
    "tags": []
   },
   "outputs": [],
   "source": [
    "img = titanic.boxplot(column=\"Age\", by=\"Pclass\", ylabel=\"Passagierklasse\", showmeans=True, vert=False)"
   ]
  },
  {
   "cell_type": "code",
   "execution_count": null,
   "id": "73f7cc94-dca3-49b9-a136-94afa2b3834e",
   "metadata": {
    "editable": true,
    "slideshow": {
     "slide_type": ""
    },
    "tags": []
   },
   "outputs": [],
   "source": [
    "img.get_figure().savefig('img/boxplot.svg')"
   ]
  },
  {
   "cell_type": "markdown",
   "id": "e6760260-3bb1-4097-bd26-a05ed487e046",
   "metadata": {
    "editable": true,
    "slideshow": {
     "slide_type": "notes"
    },
    "tags": []
   },
   "source": [
    "Kinder reisen wohl hauptsächlich 3. Klasse"
   ]
  },
  {
   "cell_type": "code",
   "execution_count": null,
   "id": "45efe51c-efa0-4aa4-87e0-ffb55b641b17",
   "metadata": {
    "editable": true,
    "slideshow": {
     "slide_type": "skip"
    },
    "tags": []
   },
   "outputs": [],
   "source": [
    "%%bash\n",
    "curl --output img/Pandas_logo.svg https://upload.wikimedia.org/wikipedia/commons/e/ed/Pandas_logo.svg"
   ]
  },
  {
   "cell_type": "markdown",
   "id": "326a2f22-3f55-4658-8e0b-8dd366a788b0",
   "metadata": {
    "editable": true,
    "slideshow": {
     "slide_type": "slide"
    },
    "tags": []
   },
   "source": [
    "## La fin\n",
    "![Pandas_Logo](img/Pandas_logo.svg)"
   ]
  },
  {
   "cell_type": "markdown",
   "id": "baee03f1-798d-4cfd-9f05-2f39465d55cc",
   "metadata": {
    "editable": true,
    "slideshow": {
     "slide_type": "notes"
    },
    "tags": []
   },
   "source": [
    "Abschluss-Slide\n",
    "\n",
    "- Fragen?\n",
    "- Anregungen?\n",
    "- Meinungen\n",
    "\n",
    "aus dem Pubklikum abholen."
   ]
  },
  {
   "cell_type": "markdown",
   "id": "17e1f64d-15b7-4f05-a42c-659c5960fd4d",
   "metadata": {
    "editable": true,
    "slideshow": {
     "slide_type": "slide"
    },
    "tags": []
   },
   "source": [
    "## Tipps und Tricks"
   ]
  },
  {
   "cell_type": "markdown",
   "id": "a116c296-863f-4fe3-9e91-2a1393647ae4",
   "metadata": {
    "editable": true,
    "slideshow": {
     "slide_type": "subslide"
    },
    "tags": []
   },
   "source": [
    "Code-Zellen, die mit `%%bash` beginnen, führen einen Befehl im Terminal aus."
   ]
  },
  {
   "cell_type": "code",
   "execution_count": null,
   "id": "6f810e22-ca8e-49dc-87bb-1a377458960e",
   "metadata": {
    "editable": true,
    "slideshow": {
     "slide_type": ""
    },
    "tags": []
   },
   "outputs": [],
   "source": [
    "%%bash\n",
    "tree"
   ]
  },
  {
   "cell_type": "markdown",
   "id": "7dd9bd32-ad89-4917-b039-54a56c5500f7",
   "metadata": {
    "editable": true,
    "slideshow": {
     "slide_type": "notes"
    },
    "tags": []
   },
   "source": [
    "Du kannst die verfügbaren Dateien links in der Seitenleiste sehen oder dir auch per Kommandozeilenbefehl `tree` übersichtlich anzeigen lassen:"
   ]
  },
  {
   "cell_type": "markdown",
   "id": "4dcde3a1-3420-4135-ba28-92b46a817ecb",
   "metadata": {
    "editable": true,
    "slideshow": {
     "slide_type": "subslide"
    },
    "tags": []
   },
   "source": [
    "Vielleicht möchtest du die Rohdaten einer Analyse herunterladen und zusammen mit dem Notebook speichern? Sicher ist sicher? Das kannst du automatisch und reproduzierbar direkt in Jupyter tun, bspw. mit dem Befehl `curl`:"
   ]
  },
  {
   "cell_type": "code",
   "execution_count": null,
   "id": "1279f682-c158-4733-ac29-387342de1d8f",
   "metadata": {
    "editable": true,
    "slideshow": {
     "slide_type": ""
    },
    "tags": []
   },
   "outputs": [],
   "source": [
    "%%bash\n",
    "curl --output data/iris.csv https://raw.githubusercontent.com/pandas-dev/pandas/refs/heads/main/doc/data/iris.data"
   ]
  },
  {
   "cell_type": "markdown",
   "id": "7e392b1c-92e9-4019-93be-e197e7e446bc",
   "metadata": {
    "editable": true,
    "slideshow": {
     "slide_type": "notes"
    },
    "tags": []
   },
   "source": [
    "Alternativ kannst du das natürlich auch alles manuell im Browser erledigen und dann die Datei von deinem Rechner nach Jupyter hochladen."
   ]
  },
  {
   "cell_type": "markdown",
   "id": "da8bcd9d-640a-49df-81ab-017408200f2b",
   "metadata": {
    "editable": true,
    "slideshow": {
     "slide_type": "subslide"
    },
    "tags": []
   },
   "source": [
    "Wenn du dieses Notizbuch in eine Reveal.js-Präsentation exportierst (`File -> Save and Export As -> Reveal.js Slides`), dann achte darauf, auch den Ordner mit deinen Bildern in den gleichen Ordner wie die .html-Datei auf deinem Rechner zu kopieren. Eine zip-Datei zum Herunterladen mit Namen `bilder.zip` aller Dateien im Ordner `img` erstellst du so:"
   ]
  },
  {
   "cell_type": "code",
   "execution_count": null,
   "id": "961ce8bb-aac2-4312-b61f-bfcafe6010f9",
   "metadata": {
    "editable": true,
    "slideshow": {
     "slide_type": ""
    },
    "tags": []
   },
   "outputs": [],
   "source": [
    "%%bash\n",
    "zip -r bilder.zip img/"
   ]
  },
  {
   "cell_type": "markdown",
   "id": "f00de470-12bc-419b-959e-399edd049259",
   "metadata": {
    "editable": true,
    "slideshow": {
     "slide_type": "subslide"
    },
    "tags": []
   },
   "source": [
    "Auch den Projektordner als Ganzes kannst du in eine zip-Datei verpacken und anschliessend auf deinen Rechner herunterladen. Das ist insbesondere nützlich, um deine Abgabe in Teams vorzubereiten oder wenn du deine Arbeit auf einen anderen Rechner übertragen willst."
   ]
  },
  {
   "cell_type": "code",
   "execution_count": null,
   "id": "cd763599-b80f-477f-9345-59924d49a380",
   "metadata": {
    "editable": true,
    "slideshow": {
     "slide_type": ""
    },
    "tags": []
   },
   "outputs": [],
   "source": [
    "%%bash\n",
    "zip -r Pandas-Tutorial.zip ."
   ]
  },
  {
   "cell_type": "markdown",
   "id": "cf7d3c0c-d236-4ab4-91d5-ed73a2dde839",
   "metadata": {
    "editable": true,
    "slideshow": {
     "slide_type": "subslide"
    },
    "tags": []
   },
   "source": [
    "Falls du neben einer Präsentation auch noch eine pdf-Datei aus diesem Notebook erstellen willst und dafür Grafiken im `.png`-Format anstelle von bspw. `.svg` benötigst, so kannst du mit dem Befehl `magick input.file output.file` leicht Bilder konvertieren, etwa so:"
   ]
  },
  {
   "cell_type": "code",
   "execution_count": null,
   "id": "f87285fa-3585-4ab6-9968-3b4d7bcfa5e9",
   "metadata": {
    "editable": true,
    "slideshow": {
     "slide_type": ""
    },
    "tags": []
   },
   "outputs": [],
   "source": [
    "%%bash\n",
    "# entweder convert oder magick\n",
    "magick img/01_table_dataframe.svg img/01_table_dataframe.png"
   ]
  },
  {
   "cell_type": "markdown",
   "id": "e43d6e47-b6c8-407e-8523-538528910a71",
   "metadata": {
    "editable": true,
    "slideshow": {
     "slide_type": ""
    },
    "tags": []
   },
   "source": [
    "oder du lässt die Konvertierung aller `svg`-Bilder automatisch durchführen."
   ]
  },
  {
   "cell_type": "code",
   "execution_count": null,
   "id": "95f537d2-d8a9-4d49-88a6-fcfd3ebec4f0",
   "metadata": {
    "editable": true,
    "slideshow": {
     "slide_type": "subslide"
    },
    "tags": []
   },
   "outputs": [],
   "source": [
    "%%bash\n",
    "# file to convert - ohne .ipynb\n",
    "FILE=Pandas-Tutorial\n",
    "# ipynb to LaTeX\n",
    "jupyter nbconvert $FILE.ipynb --to latex &> /dev/null\n",
    "# add svg package to first line of LaTeX file\n",
    "sed -i '1 s/.*/&\\\\usepackage{svg}/' $FILE.tex\n",
    "# LaTeX to pdf\n",
    "xelatex --shell-escape $FILE.tex -quiet &> /dev/null\n",
    "# clean up\n",
    "rm -rf svg-inkscape $FILE\\_files\n",
    "rm $FILE.aux $FILE.log $FILE.out $FILE.tex"
   ]
  },
  {
   "cell_type": "markdown",
   "id": "71e2bd98-0999-491f-b227-bc19a9148ee8",
   "metadata": {
    "editable": true,
    "slideshow": {
     "slide_type": "notes"
    },
    "tags": []
   },
   "source": [
    "Vorher musst du dafür die JupyterHub-VM ggf. durch Eingabe [des hier gezeigten](https://publish.obsidian.md/mer/Unterlagen/Jupyer-Quick-Start#VM+reparieren+oder+aktualisieren) Kommandos aktualisieren. Passe dann die Zeile `FILE=...` entsprechend dem Dateinamen deines Notebooks an und führe erst dann diese Codezelle aus:"
   ]
  },
  {
   "cell_type": "markdown",
   "id": "5b9f9162-3802-466b-b60c-6c77926d5153",
   "metadata": {
    "editable": true,
    "slideshow": {
     "slide_type": "notes"
    },
    "tags": []
   },
   "source": [
    "Wenn du keine `.svg` Dateien in deinem Notebook verwendet hast oder diese schon manuell nach `.png` konvertiert und eingebunden hast, dann kannst du ein .pdf-File auch einfach via `File -> Save and Export As -> PDF` erstellen."
   ]
  },
  {
   "cell_type": "code",
   "execution_count": null,
   "id": "053d16da-b549-48a8-9b5c-ccb5d9f5d381",
   "metadata": {
    "editable": true,
    "slideshow": {
     "slide_type": "slide"
    },
    "tags": []
   },
   "outputs": [],
   "source": [
    "%%bash\n",
    "tree"
   ]
  },
  {
   "cell_type": "markdown",
   "id": "2bb5dcaa-e8df-40af-b4ba-ed409790e0dd",
   "metadata": {
    "editable": true,
    "slideshow": {
     "slide_type": "slide"
    },
    "tags": []
   },
   "source": [
    "In der JupyterHub-VM funktioniert der Button für den Präsentations-Modus nicht. Du musst die Ansicht bei Bedarf direkt aufrufen.\n",
    "\n",
    "`http://127.0.0.1:8000/user/USER/rise/PATH/TO/NOTEBOOK`\n",
    "\n",
    "Wenn du beispielsweise mit dem Nutzer `demo` eingeloggt bis und dieses Notebook (`edu-public-jupyter-notebooks/analysen/Pandas-Tutorial/Pandas-Tutorial.ipynb`) live präsentieren willst:\n",
    "\n",
    "http://127.0.0.1:8000/user/demo/rise/edu-public-jupyter-notebooks/analysen/Pandas-Tutorial/Pandas-Tutorial.ipynb"
   ]
  }
 ],
 "metadata": {
  "kernelspec": {
   "display_name": "Python 3 (ipykernel)",
   "language": "python",
   "name": "python3"
  },
  "language_info": {
   "codemirror_mode": {
    "name": "ipython",
    "version": 3
   },
   "file_extension": ".py",
   "mimetype": "text/x-python",
   "name": "python",
   "nbconvert_exporter": "python",
   "pygments_lexer": "ipython3",
   "version": "3.11.10"
  },
  "livereveal": {
   "autolaunch": true
  }
 },
 "nbformat": 4,
 "nbformat_minor": 5
}
