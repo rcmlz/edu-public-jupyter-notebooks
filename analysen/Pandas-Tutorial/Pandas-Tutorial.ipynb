{
 "cells": [
  {
   "cell_type": "markdown",
   "id": "5d991e68-30a9-4875-af33-a3f2ad286771",
   "metadata": {
    "editable": true,
    "slideshow": {
     "slide_type": "slide"
    },
    "tags": []
   },
   "source": [
    "# Pandas Tutorial\n",
    "\n",
    "https://pandas.pydata.org/docs/getting_started/intro_tutorials\n"
   ]
  },
  {
   "cell_type": "code",
   "execution_count": null,
   "id": "9445e226-648c-4d28-a976-6262ba17033b",
   "metadata": {
    "editable": true,
    "slideshow": {
     "slide_type": ""
    },
    "tags": []
   },
   "outputs": [],
   "source": [
    "import pandas as pd"
   ]
  },
  {
   "cell_type": "markdown",
   "id": "8cef9151-fdb4-4ddd-83ce-b35b97762cc7",
   "metadata": {
    "editable": true,
    "slideshow": {
     "slide_type": "notes"
    },
    "tags": []
   },
   "source": [
    "Pandas ist eine Python-Bibliothek, mit der sehr leicht Daten analysiert und dargestellt werden können."
   ]
  },
  {
   "cell_type": "markdown",
   "id": "3a8742fc-6eaa-4680-bb97-87001986a0e3",
   "metadata": {
    "editable": true,
    "slideshow": {
     "slide_type": "slide"
    },
    "tags": []
   },
   "source": [
    "![01_table_dataframe.svg](img/01_table_dataframe.svg)"
   ]
  },
  {
   "cell_type": "markdown",
   "id": "2fcf4a72-7a24-44bd-bc53-4f46279a0dd7",
   "metadata": {
    "editable": true,
    "slideshow": {
     "slide_type": "notes"
    },
    "tags": []
   },
   "source": [
    "Wie in Excel gibt es Spalten und Zeilen."
   ]
  },
  {
   "cell_type": "markdown",
   "id": "7672a1dc-f424-43eb-b38a-6dfbe7b40ccb",
   "metadata": {
    "editable": true,
    "slideshow": {
     "slide_type": "slide"
    },
    "tags": []
   },
   "source": [
    "## aus einer lokalen Datei"
   ]
  },
  {
   "cell_type": "code",
   "execution_count": null,
   "id": "22dcbdfe-2836-413b-bb2e-475c9144c535",
   "metadata": {
    "editable": true,
    "slideshow": {
     "slide_type": ""
    },
    "tags": []
   },
   "outputs": [],
   "source": [
    "titanic = pd.read_csv(\"data/titanic.csv\")"
   ]
  },
  {
   "cell_type": "markdown",
   "id": "4acb04b1-9f29-44b6-ad11-dd5fc4f5e13a",
   "metadata": {
    "editable": true,
    "slideshow": {
     "slide_type": "slide"
    },
    "tags": []
   },
   "source": [
    "## oder direkt aus dem Netz ..."
   ]
  },
  {
   "cell_type": "code",
   "execution_count": null,
   "id": "da624737-e2d3-41a2-b631-37abffb9bbbe",
   "metadata": {
    "editable": true,
    "slideshow": {
     "slide_type": ""
    },
    "tags": []
   },
   "outputs": [],
   "source": [
    "titanic = pd.read_csv(\"https://link.melzian.ch/titanic\")"
   ]
  },
  {
   "cell_type": "markdown",
   "id": "ea16bda5-2f8e-4d8e-bb26-ddee3a269ce9",
   "metadata": {
    "editable": true,
    "slideshow": {
     "slide_type": "notes"
    },
    "tags": []
   },
   "source": [
    "Dies ist ein für diese Präsentation verkürzter Link auf\n",
    "https://raw.githubusercontent.com/pandas-dev/pandas/refs/heads/main/doc/data/titanic.csv"
   ]
  },
  {
   "cell_type": "markdown",
   "id": "c87e2b87-1f3f-40ea-889c-6a99bfadc52b",
   "metadata": {
    "editable": true,
    "slideshow": {
     "slide_type": "subslide"
    },
    "tags": []
   },
   "source": [
    "Weitere Testdaten für Pandas findest du hier: https://github.com/pandas-dev/pandas/tree/main/doc/data"
   ]
  },
  {
   "cell_type": "markdown",
   "id": "8f0207e0-ec9c-4f38-a532-899396306bff",
   "metadata": {
    "editable": true,
    "slideshow": {
     "slide_type": "slide"
    },
    "tags": []
   },
   "source": [
    "## die Rohdaten anzeigen"
   ]
  },
  {
   "cell_type": "code",
   "execution_count": null,
   "id": "841d7443-ed51-48cf-a14d-b26ae9f59980",
   "metadata": {
    "editable": true,
    "slideshow": {
     "slide_type": ""
    },
    "tags": []
   },
   "outputs": [],
   "source": [
    "titanic.describe()"
   ]
  },
  {
   "cell_type": "markdown",
   "id": "d1230ba5-b53e-4cd0-93a9-da3458d958ef",
   "metadata": {
    "editable": true,
    "slideshow": {
     "slide_type": "notes"
    },
    "tags": []
   },
   "source": [
    "alles auf einen Blick"
   ]
  },
  {
   "cell_type": "markdown",
   "id": "72eecd63-5e96-4847-b8bc-a25f456f0f5e",
   "metadata": {
    "editable": true,
    "slideshow": {
     "slide_type": "slide"
    },
    "tags": []
   },
   "source": [
    "## und Berechnungen anstellen"
   ]
  },
  {
   "cell_type": "markdown",
   "id": "2127c665-ee9e-45ce-80b0-4df91aaa4cd5",
   "metadata": {
    "editable": true,
    "slideshow": {
     "slide_type": ""
    },
    "tags": []
   },
   "source": [
    "to do"
   ]
  },
  {
   "cell_type": "markdown",
   "id": "104118e9-c654-4b87-b814-b483ed2a8736",
   "metadata": {
    "editable": true,
    "slideshow": {
     "slide_type": "slide"
    },
    "tags": []
   },
   "source": [
    "## aussagekräftig Plotten"
   ]
  },
  {
   "cell_type": "code",
   "execution_count": null,
   "id": "c0989875-a9da-4d52-bf19-8d7002cb639a",
   "metadata": {
    "editable": true,
    "slideshow": {
     "slide_type": ""
    },
    "tags": []
   },
   "outputs": [],
   "source": [
    "titanic.groupby('Pclass')['Age'].mean().plot.bar(title=\"Durchschnittsalter pro Passagierklasse\") "
   ]
  },
  {
   "cell_type": "markdown",
   "id": "78041781-c93f-45fb-ac4e-9e196571ea8c",
   "metadata": {
    "editable": true,
    "slideshow": {
     "slide_type": "notes"
    },
    "tags": []
   },
   "source": [
    "Balkendiagramm? Wie langweilig! Geht das besser? Klar, mit [Boxplots](https://de.wikipedia.org/wiki/Box-Plot)!"
   ]
  },
  {
   "cell_type": "code",
   "execution_count": null,
   "id": "34c873bc-2da9-454b-9029-599863a275ef",
   "metadata": {
    "editable": true,
    "slideshow": {
     "slide_type": "subslide"
    },
    "tags": []
   },
   "outputs": [],
   "source": [
    "titanic.plot.box(column=\"Age\", by=\"Pclass\", ylabel=\"Passagierklasse\", showmeans=True, vert=False)"
   ]
  },
  {
   "cell_type": "markdown",
   "id": "e6760260-3bb1-4097-bd26-a05ed487e046",
   "metadata": {
    "editable": true,
    "slideshow": {
     "slide_type": "notes"
    },
    "tags": []
   },
   "source": [
    "Kinder reisen wohl hauptsächlich 3. Klasse"
   ]
  },
  {
   "cell_type": "markdown",
   "id": "17e1f64d-15b7-4f05-a42c-659c5960fd4d",
   "metadata": {
    "editable": true,
    "slideshow": {
     "slide_type": "slide"
    },
    "tags": []
   },
   "source": [
    "## Tipps und Tricks"
   ]
  },
  {
   "cell_type": "markdown",
   "id": "a116c296-863f-4fe3-9e91-2a1393647ae4",
   "metadata": {
    "editable": true,
    "slideshow": {
     "slide_type": "subslide"
    },
    "tags": []
   },
   "source": [
    "Code-Zellen, die mit `%%bash` beginnen, führen einen Befehl im Terminal aus."
   ]
  },
  {
   "cell_type": "code",
   "execution_count": null,
   "id": "6f810e22-ca8e-49dc-87bb-1a377458960e",
   "metadata": {
    "editable": true,
    "slideshow": {
     "slide_type": ""
    },
    "tags": []
   },
   "outputs": [],
   "source": [
    "%%bash\n",
    "tree"
   ]
  },
  {
   "cell_type": "markdown",
   "id": "7dd9bd32-ad89-4917-b039-54a56c5500f7",
   "metadata": {
    "editable": true,
    "slideshow": {
     "slide_type": "notes"
    },
    "tags": []
   },
   "source": [
    "Du kannst die verfügbaren Dateien links in der Seitenleiste sehen oder dir auch per Kommandozeilenbefehl `tree` übersichtlich anzeigen lassen:"
   ]
  },
  {
   "cell_type": "markdown",
   "id": "4dcde3a1-3420-4135-ba28-92b46a817ecb",
   "metadata": {
    "editable": true,
    "slideshow": {
     "slide_type": "subslide"
    },
    "tags": []
   },
   "source": [
    "Vielleicht möchtest du die Rohdaten einer Analyse herunterladen und zusammen mit dem Notebook speichern? Sicher ist sicher? Das kannst du automatisch und reproduzierbar direkt in Jupyter tun, bspw. mit dem Befehl `curl`:"
   ]
  },
  {
   "cell_type": "code",
   "execution_count": null,
   "id": "1279f682-c158-4733-ac29-387342de1d8f",
   "metadata": {
    "editable": true,
    "slideshow": {
     "slide_type": ""
    },
    "tags": []
   },
   "outputs": [],
   "source": [
    "%%bash\n",
    "curl --output data/iris.csv https://raw.githubusercontent.com/pandas-dev/pandas/refs/heads/main/doc/data/iris.data"
   ]
  },
  {
   "cell_type": "markdown",
   "id": "7e392b1c-92e9-4019-93be-e197e7e446bc",
   "metadata": {
    "editable": true,
    "slideshow": {
     "slide_type": "notes"
    },
    "tags": []
   },
   "source": [
    "Alternativ kannst du das natürlich auch alles manuell im Browser erledigen und dann die Datei von deinem Rechner nach Jupyter hochladen."
   ]
  },
  {
   "cell_type": "markdown",
   "id": "da8bcd9d-640a-49df-81ab-017408200f2b",
   "metadata": {
    "editable": true,
    "slideshow": {
     "slide_type": "subslide"
    },
    "tags": []
   },
   "source": [
    "Wenn du dieses Notizbuch in eine Reveal.js-Präsentation exportierst (`File -> Save and Export As -> Reveal.js Slides`), dann achte darauf, auch den Ordner mit deinen Bildern in den gleichen Ordner wie die .html-Datei auf deinem Rechner zu kopieren. Eine zip-Datei zum Herunterladen mit Namen `bilder.zip` aller Dateien im Ordner `img` erstellst du so:"
   ]
  },
  {
   "cell_type": "code",
   "execution_count": null,
   "id": "961ce8bb-aac2-4312-b61f-bfcafe6010f9",
   "metadata": {
    "editable": true,
    "slideshow": {
     "slide_type": ""
    },
    "tags": []
   },
   "outputs": [],
   "source": [
    "%%bash\n",
    "zip -r bilder.zip img/"
   ]
  },
  {
   "cell_type": "markdown",
   "id": "f00de470-12bc-419b-959e-399edd049259",
   "metadata": {
    "editable": true,
    "slideshow": {
     "slide_type": "subslide"
    },
    "tags": []
   },
   "source": [
    "Auch den Projektordner als Ganzes kannst du in eine zip-Datei verpacken und anschliessend auf deinen Rechner herunterladen. Das ist insbesondere nützlich, um deine Abgabe in Teams vorzubereiten oder wenn du deine Arbeit auf einen anderen Rechner übertragen willst."
   ]
  },
  {
   "cell_type": "code",
   "execution_count": null,
   "id": "cd763599-b80f-477f-9345-59924d49a380",
   "metadata": {
    "editable": true,
    "slideshow": {
     "slide_type": ""
    },
    "tags": []
   },
   "outputs": [],
   "source": [
    "%%bash\n",
    "zip -r Pandas-Tutorial.zip ."
   ]
  },
  {
   "cell_type": "markdown",
   "id": "cf7d3c0c-d236-4ab4-91d5-ed73a2dde839",
   "metadata": {
    "editable": true,
    "slideshow": {
     "slide_type": "subslide"
    },
    "tags": []
   },
   "source": [
    "Falls du neben einer Präsentation auch noch eine pdf-Datei aus diesem Notebook erstellen willst und dafür Grafiken im `.png`-Format anstelle von bspw. `.svg` benötigst, so kannst du mit dem Befehl `magick input.file output.file` leicht Bilder konvertieren, etwa so:"
   ]
  },
  {
   "cell_type": "code",
   "execution_count": null,
   "id": "f87285fa-3585-4ab6-9968-3b4d7bcfa5e9",
   "metadata": {
    "editable": true,
    "slideshow": {
     "slide_type": ""
    },
    "tags": []
   },
   "outputs": [],
   "source": [
    "%%bash\n",
    "magick img/01_table_dataframe.svg img/01_table_dataframe.png"
   ]
  },
  {
   "cell_type": "markdown",
   "id": "e43d6e47-b6c8-407e-8523-538528910a71",
   "metadata": {},
   "source": [
    "oder du lässt die Konvertierung aller `svg`-Bilder automatisch durchführen. Vorher musst du dafür die JupyterHub-VM ggf. durch Eingabe [des hier gezeigten](https://publish.obsidian.md/mer/Unterlagen/Jupyer-Quick-Start#VM+reparieren+oder+aktualisieren) Kommandos aktualisieren. Passe dann die Zeile `FILE=...` entsprechend dem Dateiamen deines Notebooks an und führe erst dann diese Codezelle aus:"
   ]
  },
  {
   "cell_type": "code",
   "execution_count": null,
   "id": "95f537d2-d8a9-4d49-88a6-fcfd3ebec4f0",
   "metadata": {
    "editable": true,
    "slideshow": {
     "slide_type": ""
    },
    "tags": []
   },
   "outputs": [],
   "source": [
    "%%bash\n",
    "# file to convert - ohne .ipynb\n",
    "FILE=Pandas-Tutorial\n",
    "# ipynb to LaTeX\n",
    "jupyter nbconvert $FILE.ipynb --to latex\n",
    "# add svg package to first line of LaTeX file\n",
    "sed -i '1 s/.*/&\\\\usepackage{svg}/' $FILE.tex\n",
    "# LaTeX to pdf\n",
    "xelatex --shell-escape $FILE.tex -quiet\n",
    "# clean up\n",
    "rm -rf svg-inkscape\n",
    "rm $FILE.aux $FILE.log $FILE.out $FILE.tex"
   ]
  },
  {
   "cell_type": "markdown",
   "id": "5b9f9162-3802-466b-b60c-6c77926d5153",
   "metadata": {
    "editable": true,
    "slideshow": {
     "slide_type": ""
    },
    "tags": []
   },
   "source": [
    "Wenn du keine `.svg` Dateien in deinem Notebook verwendet hast oder diese schon manuell nach `.png` konvertiert hast, dann kannst du ein .pdf-File auch einfach via `File -> Save and Export As -> PDF` erstellen."
   ]
  }
 ],
 "metadata": {
  "kernelspec": {
   "display_name": "Python 3 (ipykernel)",
   "language": "python",
   "name": "python3"
  },
  "language_info": {
   "codemirror_mode": {
    "name": "ipython",
    "version": 3
   },
   "file_extension": ".py",
   "mimetype": "text/x-python",
   "name": "python",
   "nbconvert_exporter": "python",
   "pygments_lexer": "ipython3",
   "version": "3.11.10"
  }
 },
 "nbformat": 4,
 "nbformat_minor": 5
}
