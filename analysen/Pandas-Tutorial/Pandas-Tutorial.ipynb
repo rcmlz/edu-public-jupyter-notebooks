{
 "cells": [
  {
   "cell_type": "markdown",
   "id": "5d991e68-30a9-4875-af33-a3f2ad286771",
   "metadata": {
    "editable": true,
    "slideshow": {
     "slide_type": "slide"
    },
    "tags": []
   },
   "source": [
    "# Pandas Tutorial\n",
    "\n",
    "https://pandas.pydata.org/docs/getting_started/intro_tutorials\n"
   ]
  },
  {
   "cell_type": "code",
   "execution_count": 2,
   "id": "9445e226-648c-4d28-a976-6262ba17033b",
   "metadata": {
    "editable": true,
    "slideshow": {
     "slide_type": ""
    },
    "tags": []
   },
   "outputs": [],
   "source": [
    "import pandas as pd"
   ]
  },
  {
   "cell_type": "markdown",
   "id": "8cef9151-fdb4-4ddd-83ce-b35b97762cc7",
   "metadata": {
    "editable": true,
    "slideshow": {
     "slide_type": "notes"
    },
    "tags": []
   },
   "source": [
    "Pandas ist eine Python-Bibliothek, mit der sehr leicht Daten analysiert und dargestellt werden können."
   ]
  },
  {
   "cell_type": "markdown",
   "id": "3a8742fc-6eaa-4680-bb97-87001986a0e3",
   "metadata": {
    "editable": true,
    "slideshow": {
     "slide_type": "slide"
    },
    "tags": []
   },
   "source": [
    "![01_table_dataframe.svg](img/01_table_dataframe.svg)"
   ]
  },
  {
   "cell_type": "markdown",
   "id": "2fcf4a72-7a24-44bd-bc53-4f46279a0dd7",
   "metadata": {
    "editable": true,
    "slideshow": {
     "slide_type": "notes"
    },
    "tags": []
   },
   "source": [
    "Wie in Excel gibt es Spalten und Zeilen."
   ]
  },
  {
   "cell_type": "code",
   "execution_count": null,
   "id": "22dcbdfe-2836-413b-bb2e-475c9144c535",
   "metadata": {
    "editable": true,
    "slideshow": {
     "slide_type": ""
    },
    "tags": []
   },
   "outputs": [],
   "source": []
  }
 ],
 "metadata": {
  "kernelspec": {
   "display_name": "Python 3",
   "language": "python",
   "name": "python3"
  },
  "language_info": {
   "codemirror_mode": {
    "name": "ipython",
    "version": 3
   },
   "file_extension": ".py",
   "mimetype": "text/x-python",
   "name": "python",
   "nbconvert_exporter": "python",
   "pygments_lexer": "ipython3",
   "version": "3.12.11"
  }
 },
 "nbformat": 4,
 "nbformat_minor": 5,
 "authors": [
    {
        "name": "Jane Doe"
    },
    {
        "name": "John Doe"
    }
 ],
 "title": "Mein erster Report"
}
