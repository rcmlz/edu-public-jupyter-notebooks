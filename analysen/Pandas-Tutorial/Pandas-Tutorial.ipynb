{
 "cells": [
  {
   "cell_type": "markdown",
   "id": "5d991e68-30a9-4875-af33-a3f2ad286771",
   "metadata": {
    "editable": true,
    "slideshow": {
     "slide_type": "slide"
    },
    "tags": []
   },
   "source": [
    "# Pandas Tutorial\n",
    "\n",
    "https://pandas.pydata.org/docs/getting_started/intro_tutorials\n"
   ]
  },
  {
   "cell_type": "code",
   "execution_count": null,
   "id": "9445e226-648c-4d28-a976-6262ba17033b",
   "metadata": {
    "editable": true,
    "slideshow": {
     "slide_type": ""
    },
    "tags": []
   },
   "outputs": [],
   "source": [
    "import pandas as pd"
   ]
  },
  {
   "cell_type": "markdown",
   "id": "8cef9151-fdb4-4ddd-83ce-b35b97762cc7",
   "metadata": {
    "editable": true,
    "slideshow": {
     "slide_type": "notes"
    },
    "tags": []
   },
   "source": [
    "Pandas ist eine Python-Bibliothek, mit der sehr leicht Daten analysiert und dargestellt werden können."
   ]
  },
  {
   "cell_type": "markdown",
   "id": "3a8742fc-6eaa-4680-bb97-87001986a0e3",
   "metadata": {
    "editable": true,
    "slideshow": {
     "slide_type": "slide"
    },
    "tags": []
   },
   "source": [
    "![01_table_dataframe.svg](img/01_table_dataframe.svg)"
   ]
  },
  {
   "cell_type": "markdown",
   "id": "2fcf4a72-7a24-44bd-bc53-4f46279a0dd7",
   "metadata": {
    "editable": true,
    "slideshow": {
     "slide_type": "notes"
    },
    "tags": []
   },
   "source": [
    "Wie in Excel gibt es Spalten und Zeilen."
   ]
  },
  {
   "cell_type": "markdown",
   "id": "7672a1dc-f424-43eb-b38a-6dfbe7b40ccb",
   "metadata": {
    "editable": true,
    "slideshow": {
     "slide_type": "slide"
    },
    "tags": []
   },
   "source": [
    "## aus einer lokalen Datei"
   ]
  },
  {
   "cell_type": "code",
   "execution_count": null,
   "id": "22dcbdfe-2836-413b-bb2e-475c9144c535",
   "metadata": {
    "editable": true,
    "slideshow": {
     "slide_type": ""
    },
    "tags": []
   },
   "outputs": [],
   "source": [
    "titanic = pd.read_csv(\"data/titanic.csv\")"
   ]
  },
  {
   "cell_type": "markdown",
   "id": "7dd9bd32-ad89-4917-b039-54a56c5500f7",
   "metadata": {
    "editable": true,
    "slideshow": {
     "slide_type": "subslide"
    },
    "tags": []
   },
   "source": [
    "Das kannst die verfügbaren Dateien links in der Seitenleiste sehen oder dir auch per Kommandozeilenbefehl `tree` oder `ls -shF` übersichtlich anzeigen lassen:"
   ]
  },
  {
   "cell_type": "code",
   "execution_count": null,
   "id": "6f810e22-ca8e-49dc-87bb-1a377458960e",
   "metadata": {
    "editable": true,
    "slideshow": {
     "slide_type": ""
    },
    "tags": []
   },
   "outputs": [],
   "source": [
    "%%bash\n",
    "tree"
   ]
  },
  {
   "cell_type": "markdown",
   "id": "a116c296-863f-4fe3-9e91-2a1393647ae4",
   "metadata": {
    "editable": true,
    "slideshow": {
     "slide_type": "notes"
    },
    "tags": []
   },
   "source": [
    "Code-Zellen, die mit `%%bash` beginnen, führen einen Befehl im Terminal aus."
   ]
  },
  {
   "cell_type": "markdown",
   "id": "4acb04b1-9f29-44b6-ad11-dd5fc4f5e13a",
   "metadata": {
    "editable": true,
    "slideshow": {
     "slide_type": "slide"
    },
    "tags": []
   },
   "source": [
    "## oder direkt aus dem Netz ..."
   ]
  },
  {
   "cell_type": "code",
   "execution_count": null,
   "id": "da624737-e2d3-41a2-b631-37abffb9bbbe",
   "metadata": {
    "editable": true,
    "slideshow": {
     "slide_type": ""
    },
    "tags": []
   },
   "outputs": [],
   "source": [
    "titanic = pd.read_csv(\"https://link.melzian.ch/titanic\")"
   ]
  },
  {
   "cell_type": "markdown",
   "id": "ea16bda5-2f8e-4d8e-bb26-ddee3a269ce9",
   "metadata": {
    "editable": true,
    "slideshow": {
     "slide_type": "notes"
    },
    "tags": []
   },
   "source": [
    "Dies ist ein für diese Präsentation verkürzter Link auf\n",
    "https://raw.githubusercontent.com/pandas-dev/pandas/refs/heads/main/doc/data/titanic.csv"
   ]
  },
  {
   "cell_type": "markdown",
   "id": "582752c8-5ce6-4b5f-86db-614882d8216c",
   "metadata": {
    "editable": true,
    "slideshow": {
     "slide_type": ""
    },
    "tags": []
   },
   "source": [
    "... more text ..."
   ]
  },
  {
   "cell_type": "markdown",
   "id": "da8bcd9d-640a-49df-81ab-017408200f2b",
   "metadata": {
    "editable": true,
    "slideshow": {
     "slide_type": "notes"
    },
    "tags": []
   },
   "source": [
    "Wenn du dieses Notizbuch in eine Reveal.js-Präsentation exportierst, achte darauf, auch den Ordner mit den Bildern manuell nach bspw. Downloads - oder wo auch immer die .html-Datei liegt, zu kopieren."
   ]
  },
  {
   "cell_type": "markdown",
   "id": "b284cf9c-3166-48d1-8b45-d1e5e2386a3c",
   "metadata": {
    "editable": true,
    "slideshow": {
     "slide_type": ""
    },
    "tags": []
   },
   "source": [
    "... more text ..."
   ]
  }
 ],
 "metadata": {
  "kernelspec": {
   "display_name": "Python 3 (ipykernel)",
   "language": "python",
   "name": "python3"
  },
  "language_info": {
   "codemirror_mode": {
    "name": "ipython",
    "version": 3
   },
   "file_extension": ".py",
   "mimetype": "text/x-python",
   "name": "python",
   "nbconvert_exporter": "python",
   "pygments_lexer": "ipython3",
   "version": "3.11.10"
  }
 },
 "nbformat": 4,
 "nbformat_minor": 5
}
