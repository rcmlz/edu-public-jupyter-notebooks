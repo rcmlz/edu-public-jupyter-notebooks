{
 "cells": [
  {
   "cell_type": "markdown",
   "id": "5d991e68-30a9-4875-af33-a3f2ad286771",
   "metadata": {
    "editable": true,
    "slideshow": {
     "slide_type": "slide"
    },
    "tags": []
   },
   "source": [
    "# Pandas Tutorial\n",
    "\n",
    "https://pandas.pydata.org/docs/getting_started/intro_tutorials\n"
   ]
  },
  {
   "cell_type": "code",
   "execution_count": null,
   "id": "9445e226-648c-4d28-a976-6262ba17033b",
   "metadata": {
    "editable": true,
    "slideshow": {
     "slide_type": ""
    },
    "tags": []
   },
   "outputs": [],
   "source": [
    "import pandas as pd"
   ]
  },
  {
   "cell_type": "markdown",
   "id": "8cef9151-fdb4-4ddd-83ce-b35b97762cc7",
   "metadata": {
    "editable": true,
    "slideshow": {
     "slide_type": "notes"
    },
    "tags": []
   },
   "source": [
    "Pandas ist eine Python-Bibliothek, mit der sehr leicht Daten analysiert und dargestellt werden können."
   ]
  },
  {
   "cell_type": "markdown",
   "id": "3a8742fc-6eaa-4680-bb97-87001986a0e3",
   "metadata": {
    "editable": true,
    "slideshow": {
     "slide_type": "slide"
    },
    "tags": []
   },
   "source": [
    "![01_table_dataframe.svg](img/01_table_dataframe.svg)"
   ]
  },
  {
   "cell_type": "markdown",
   "id": "2fcf4a72-7a24-44bd-bc53-4f46279a0dd7",
   "metadata": {
    "editable": true,
    "slideshow": {
     "slide_type": "notes"
    },
    "tags": []
   },
   "source": [
    "Wie in Excel gibt es Spalten und Zeilen."
   ]
  },
  {
   "cell_type": "markdown",
   "id": "7672a1dc-f424-43eb-b38a-6dfbe7b40ccb",
   "metadata": {
    "editable": true,
    "slideshow": {
     "slide_type": "slide"
    },
    "tags": []
   },
   "source": [
    "## aus einer lokalen Datei"
   ]
  },
  {
   "cell_type": "code",
   "execution_count": null,
   "id": "22dcbdfe-2836-413b-bb2e-475c9144c535",
   "metadata": {
    "editable": true,
    "slideshow": {
     "slide_type": ""
    },
    "tags": []
   },
   "outputs": [],
   "source": [
    "titanic = pd.read_csv(\"data/titanic.csv\")"
   ]
  },
  {
   "cell_type": "markdown",
   "id": "4acb04b1-9f29-44b6-ad11-dd5fc4f5e13a",
   "metadata": {
    "editable": true,
    "slideshow": {
     "slide_type": "slide"
    },
    "tags": []
   },
   "source": [
    "## oder direkt aus dem Netz ..."
   ]
  },
  {
   "cell_type": "code",
   "execution_count": null,
   "id": "da624737-e2d3-41a2-b631-37abffb9bbbe",
   "metadata": {
    "editable": true,
    "slideshow": {
     "slide_type": ""
    },
    "tags": []
   },
   "outputs": [],
   "source": [
    "titanic = pd.read_csv(\"https://link.melzian.ch/titanic\")"
   ]
  },
  {
   "cell_type": "markdown",
   "id": "ea16bda5-2f8e-4d8e-bb26-ddee3a269ce9",
   "metadata": {
    "editable": true,
    "slideshow": {
     "slide_type": "notes"
    },
    "tags": []
   },
   "source": [
    "Dies ist ein für diese Präsentation verkürzter Link auf\n",
    "https://raw.githubusercontent.com/pandas-dev/pandas/refs/heads/main/doc/data/titanic.csv"
   ]
  },
  {
   "cell_type": "markdown",
   "id": "c87e2b87-1f3f-40ea-889c-6a99bfadc52b",
   "metadata": {
    "editable": true,
    "slideshow": {
     "slide_type": "subslide"
    },
    "tags": []
   },
   "source": [
    "Weitere Testdaten für Pandas findest du hier: https://github.com/pandas-dev/pandas/tree/main/doc/data"
   ]
  },
  {
   "cell_type": "markdown",
   "id": "17e1f64d-15b7-4f05-a42c-659c5960fd4d",
   "metadata": {
    "editable": true,
    "slideshow": {
     "slide_type": "slide"
    },
    "tags": []
   },
   "source": [
    "## Tipps und Tricks"
   ]
  },
  {
   "cell_type": "markdown",
   "id": "a116c296-863f-4fe3-9e91-2a1393647ae4",
   "metadata": {
    "editable": true,
    "slideshow": {
     "slide_type": "subslide"
    },
    "tags": []
   },
   "source": [
    "Code-Zellen, die mit `%%bash` beginnen, führen einen Befehl im Terminal aus."
   ]
  },
  {
   "cell_type": "code",
   "execution_count": null,
   "id": "6f810e22-ca8e-49dc-87bb-1a377458960e",
   "metadata": {
    "editable": true,
    "slideshow": {
     "slide_type": ""
    },
    "tags": []
   },
   "outputs": [],
   "source": [
    "%%bash\n",
    "tree"
   ]
  },
  {
   "cell_type": "markdown",
   "id": "7dd9bd32-ad89-4917-b039-54a56c5500f7",
   "metadata": {
    "editable": true,
    "slideshow": {
     "slide_type": "notes"
    },
    "tags": []
   },
   "source": [
    "Du kannst die verfügbaren Dateien links in der Seitenleiste sehen oder dir auch per Kommandozeilenbefehl `tree` übersichtlich anzeigen lassen:"
   ]
  },
  {
   "cell_type": "markdown",
   "id": "4dcde3a1-3420-4135-ba28-92b46a817ecb",
   "metadata": {
    "editable": true,
    "slideshow": {
     "slide_type": "subslide"
    },
    "tags": []
   },
   "source": [
    "Vielleicht möchtest du die Rohdaten einer Analyse herunterladen und zusammen mit dem Notebook speichern? Sicher ist sicher? Das kannst du automatisch und reproduzierbar direkt in Jupyter tun, bspw. mit dem Befehl `curl`:"
   ]
  },
  {
   "cell_type": "code",
   "execution_count": null,
   "id": "1279f682-c158-4733-ac29-387342de1d8f",
   "metadata": {
    "editable": true,
    "slideshow": {
     "slide_type": ""
    },
    "tags": []
   },
   "outputs": [],
   "source": [
    "%%bash\n",
    "curl --output data/iris.csv https://raw.githubusercontent.com/pandas-dev/pandas/refs/heads/main/doc/data/iris.data"
   ]
  },
  {
   "cell_type": "markdown",
   "id": "7e392b1c-92e9-4019-93be-e197e7e446bc",
   "metadata": {
    "editable": true,
    "slideshow": {
     "slide_type": "notes"
    },
    "tags": []
   },
   "source": [
    "Alternativ kannst du das natürlich auch alles manuell im Browser erledigen und dann die Datei von deinem Rechner nach Jupyter hochladen."
   ]
  },
  {
   "cell_type": "markdown",
   "id": "da8bcd9d-640a-49df-81ab-017408200f2b",
   "metadata": {
    "editable": true,
    "slideshow": {
     "slide_type": "subslide"
    },
    "tags": []
   },
   "source": [
    "Wenn du dieses Notizbuch in eine Reveal.js-Präsentation exportierst (`File -> Save and Export As -> Reveal.js Slides`), dann achte darauf, auch den Ordner mit deinen Bildern in den gleichen Ordner wie die .html-Datei auf deinem Rechner zu kopieren. Eine zip-Datei zum Herunterladen mit Namen `bilder.zip` aller Dateien im Ordner `img` erstellst du so:"
   ]
  },
  {
   "cell_type": "code",
   "execution_count": null,
   "id": "961ce8bb-aac2-4312-b61f-bfcafe6010f9",
   "metadata": {
    "editable": true,
    "slideshow": {
     "slide_type": ""
    },
    "tags": []
   },
   "outputs": [],
   "source": [
    "%%bash\n",
    "zip -r bilder.zip img/"
   ]
  },
  {
   "cell_type": "markdown",
   "id": "f00de470-12bc-419b-959e-399edd049259",
   "metadata": {
    "editable": true,
    "slideshow": {
     "slide_type": "subslide"
    },
    "tags": []
   },
   "source": [
    "Auch den Projektordner als Ganzes kannst du in eine zip-Datei verpacken und anschliessend auf deinen Rechner herunterladen. Das ist insbesondere nützlich, um deine Abgabe in Teams vorzubereiten oder wenn du deine Arbeit auf einen anderen Rechner übertragen willst."
   ]
  },
  {
   "cell_type": "code",
   "execution_count": null,
   "id": "cd763599-b80f-477f-9345-59924d49a380",
   "metadata": {
    "editable": true,
    "slideshow": {
     "slide_type": ""
    },
    "tags": []
   },
   "outputs": [],
   "source": [
    "%%bash\n",
    "zip -r Pandas-Tutorial.zip ."
   ]
  },
  {
   "cell_type": "markdown",
   "id": "cf7d3c0c-d236-4ab4-91d5-ed73a2dde839",
   "metadata": {
    "editable": true,
    "slideshow": {
     "slide_type": "subslide"
    },
    "tags": []
   },
   "source": [
    "Falls du neben einer Präsentation auch noch eine pdf-Datei aus diesem Notebook erstellen willst und dafür Grafiken im `.png`-Format anstelle von bspw. `.svg` benötigst, so kannst du mit dem Befehl `magick input.file output.file` leicht Bilder konvertieren, etwa so:"
   ]
  },
  {
   "cell_type": "code",
   "execution_count": null,
   "id": "f87285fa-3585-4ab6-9968-3b4d7bcfa5e9",
   "metadata": {
    "editable": true,
    "slideshow": {
     "slide_type": ""
    },
    "tags": []
   },
   "outputs": [],
   "source": [
    "%%bash\n",
    "magick img/01_table_dataframe.svg img/01_table_dataframe.png"
   ]
  },
  {
   "cell_type": "markdown",
   "id": "e43d6e47-b6c8-407e-8523-538528910a71",
   "metadata": {},
   "source": [
    "oder du lässt die Konvertierung automatisch durchführen. Das müssen wir leider per Bash-Script machen:"
   ]
  },
  {
   "cell_type": "code",
   "execution_count": null,
   "id": "95f537d2-d8a9-4d49-88a6-fcfd3ebec4f0",
   "metadata": {},
   "outputs": [],
   "source": [
    "%%bash\n",
    "# file to convert\n",
    "FILE=Pandas-Tutorial\n",
    "# ipynb to latex\n",
    "jupyter nbconvert $FILE.ipynb --to latex\n",
    "# add svg package to first line of latex file\n",
    "sed -i '1 s/.*/&\\\\usepackage{svg}/' $FILE.tex\n",
    "# latex to pdf\n",
    "xelatex --shell-escape $FILE.tex -quiet"
   ]
  }
 ],
 "metadata": {
  "kernelspec": {
   "display_name": "Python 3 (ipykernel)",
   "language": "python",
   "name": "python3"
  },
  "language_info": {
   "codemirror_mode": {
    "name": "ipython",
    "version": 3
   },
   "file_extension": ".py",
   "mimetype": "text/x-python",
   "name": "python",
   "nbconvert_exporter": "python",
   "pygments_lexer": "ipython3",
   "version": "3.11.10"
  }
 },
 "nbformat": 4,
 "nbformat_minor": 5
}
