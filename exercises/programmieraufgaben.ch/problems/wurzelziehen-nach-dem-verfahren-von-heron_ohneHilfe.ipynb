{
 "cells": [
  {
   "cell_type": "code",
   "execution_count": null,
   "id": "2e1ac3f7",
   "metadata": {},
   "outputs": [],
   "source": [
    "from doctest import run_docstring_examples\n",
    "\n",
    "# In Python verwenden wir \"Decimal\" anstelle des Standarddatentyps \"float\", \n",
    "# wenn hohe Genauigkeit bei mathematischen Berechnungen erforderlich ist.\n",
    "from decimal import Decimal\n",
    "\n",
    "import logging\n",
    "logging.basicConfig(level=logging.DEBUG)"
   ]
  },
  {
   "cell_type": "markdown",
   "id": "f561165e",
   "metadata": {},
   "source": [
    "# Wurzelziehen nach dem Verfahren von Heron (Rekursion)\n",
    "\n",
    "Quelle: https://www.programmieraufgaben.ch/aufgabe/wurzelziehen-nach-dem-verfahren-von-heron/kugctg53\n",
    "\n",
    "## Quadratwurzel\n",
    "Schreiben Sie eine Funktion, welche die Quadratwurzel $a$ einer Zahl $A$ zieht, indem das Verfahren von Heron rekusiv angewendet wird.\n",
    "\n",
    "Rekursionsformel:\n",
    "$$ a_{1} = \\frac{A}{2}$$\n",
    "\n",
    "$$a_{i+1} =  \\frac{A + a_{i}^{2}}{2 \\cdot a_{i}}$$\n",
    "\n",
    "Abbruchbedingung Option A: Es kann kein genaueres Ergebnis mehr erzielt werden!\n",
    "\n",
    "$$ a_{i+1} == a_{i} $$\n",
    "\n",
    "Alternativ können Sie als Abbruchbedingung auch eine Schwelle $\\epsilon$ (z.B. $\\epsilon = 0.0000001$) definieren, bei deren Unterschreiten abgebrochen wird.\n",
    "\n",
    "Abbruchbedingung Option B:\n",
    "$$ abs(a_{i+1} - a_{i}) < \\epsilon$$\n",
    "\n",
    "Testen Sie Ihre Lösung. Welche Vor- und welche Nachteile hat Option B im Vergleich zu A? Terminieren beide Varianten stets? In welchem Intervall liegt der wahre Wert von $a$?\n",
    "\n",
    "## Maximale Rekursionstiefe\n",
    "Erweitern Sie Ihre Lösung, so dass auch abgebrochen wird, wenn eine gegebene, maximale Rekursionstiefe erreicht wurde. \n",
    "\n",
    "## Kubikwurzel\n",
    "Implementieren Sie nun die Kubikwurzel.\n",
    "\n",
    "Rekursionsformel:\n",
    "$$ a_{1} = \\frac{A}{3}$$\n",
    "\n",
    "$$a_{i+1} =  \\frac{A + 2 \\cdot a_{i}^{3}}{3 \\cdot a_{i}^{2}}$$\n",
    "\n",
    "## n-te Wurzel\n",
    "Implementieren Sie nun die n-te Wurzel. Führen Sie dabei die Aufrufe zu Quadrat- und Kubikwurzel auf die allgemeine Lösung zurück.\n",
    "\n",
    "Rekursionsformel:\n",
    "$$ a_{1} = \\frac{A}{n}$$\n",
    "\n",
    "$$a_{i+1} =  \\frac{A + (n - 1) \\cdot a_{i}^{n}}{n \\cdot a_{i}^{n-1}}$$"
   ]
  },
  {
   "cell_type": "markdown",
   "id": "121dc34f",
   "metadata": {},
   "source": [
    "## Ihre Lösung"
   ]
  },
  {
   "cell_type": "code",
   "execution_count": null,
   "id": "8a49cb43",
   "metadata": {},
   "outputs": [],
   "source": []
  },
  {
   "cell_type": "markdown",
   "id": "d5ea70ee",
   "metadata": {},
   "source": [
    "## Lösung testen"
   ]
  },
  {
   "cell_type": "code",
   "execution_count": null,
   "id": "60789820",
   "metadata": {},
   "outputs": [],
   "source": []
  }
 ],
 "metadata": {
  "kernelspec": {
   "display_name": "Python 3 (ipykernel)",
   "language": "python",
   "name": "python3"
  },
  "language_info": {
   "codemirror_mode": {
    "name": "ipython",
    "version": 3
   },
   "file_extension": ".py",
   "mimetype": "text/x-python",
   "name": "python",
   "nbconvert_exporter": "python",
   "pygments_lexer": "ipython3",
   "version": "3.9.14"
  },
  "latex_envs": {
   "LaTeX_envs_menu_present": true,
   "autoclose": false,
   "autocomplete": true,
   "bibliofile": "biblio.bib",
   "cite_by": "apalike",
   "current_citInitial": 1,
   "eqLabelWithNumbers": true,
   "eqNumInitial": 1,
   "hotkeys": {
    "equation": "Ctrl-E",
    "itemize": "Ctrl-I"
   },
   "labels_anchors": false,
   "latex_user_defs": false,
   "report_style_numbering": false,
   "user_envs_cfg": false
  },
  "toc": {
   "base_numbering": 1,
   "nav_menu": {},
   "number_sections": true,
   "sideBar": true,
   "skip_h1_title": false,
   "title_cell": "Table of Contents",
   "title_sidebar": "Contents",
   "toc_cell": false,
   "toc_position": {},
   "toc_section_display": true,
   "toc_window_display": true
  },
  "varInspector": {
   "cols": {
    "lenName": 16,
    "lenType": 16,
    "lenVar": 40
   },
   "kernels_config": {
    "python": {
     "delete_cmd_postfix": "",
     "delete_cmd_prefix": "del ",
     "library": "var_list.py",
     "varRefreshCmd": "print(var_dic_list())"
    },
    "r": {
     "delete_cmd_postfix": ") ",
     "delete_cmd_prefix": "rm(",
     "library": "var_list.r",
     "varRefreshCmd": "cat(var_dic_list()) "
    }
   },
   "types_to_exclude": [
    "module",
    "function",
    "builtin_function_or_method",
    "instance",
    "_Feature"
   ],
   "window_display": false
  }
 },
 "nbformat": 4,
 "nbformat_minor": 5
}
