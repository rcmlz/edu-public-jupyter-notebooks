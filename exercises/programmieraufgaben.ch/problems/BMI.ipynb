{
 "cells": [
  {
   "cell_type": "markdown",
   "metadata": {},
   "source": [
    "## Aufgabenstellung"
   ]
  },
  {
   "cell_type": "markdown",
   "metadata": {
    "editable": true,
    "slideshow": {
     "slide_type": ""
    },
    "tags": []
   },
   "source": [
    "Der BMI (Body-Mass-Index) bewertet das Körpergewicht eines Menschen im Verhältnis zum Quadrat seiner Grösse.\n",
    "\n",
    "$$BMI = \\frac{kg}{m^2}$$\n",
    "\n",
    "Folgende Indizien werden vorgeschlagen:\n",
    "\n",
    "|w|m|Klassifikation|\n",
    "|--|--|--|\n",
    "|$< 19$|$< 20$|Untergewicht|\n",
    "|$19-24$|$20-25$|Normalgewicht|\n",
    "|$>24$|$>25$|Übergewicht|\n",
    "\n",
    "Schreiben Sie zwei Funktionen, "
   ]
  },
  {
   "cell_type": "markdown",
   "metadata": {},
   "source": [
    "1. die aus den Angaben zu Geschlecht, Masse und Körpergrösse eines Menschen den BMI berechnet. \n",
    "2. die aus dem BMI die Klassifikation bestimmt. "
   ]
  },
  {
   "cell_type": "markdown",
   "metadata": {
    "editable": true,
    "slideshow": {
     "slide_type": ""
    },
    "tags": []
   },
   "source": [
    "Erstellen Sie zunächst ein Funktionsgerüst mit einem leeren Funktionskörper und mindestens fünf Testfälle. Implementieren Sie erst dann eine Lösung."
   ]
  },
  {
   "cell_type": "markdown",
   "metadata": {},
   "source": [
    "Nutzen Sie für diese Aufgabe bei Bedarf auch die [AI](https://publish.obsidian.md/mer/Unterlagen/AI) Ihres Vertrauens."
   ]
  },
  {
   "cell_type": "markdown",
   "metadata": {},
   "source": [
    "## Teilaufgabe 1"
   ]
  },
  {
   "cell_type": "markdown",
   "metadata": {},
   "source": [
    "### Programmgerüst"
   ]
  },
  {
   "cell_type": "code",
   "execution_count": null,
   "metadata": {},
   "outputs": [],
   "source": [
    "..."
   ]
  },
  {
   "cell_type": "markdown",
   "metadata": {},
   "source": [
    "### Testfälle"
   ]
  },
  {
   "cell_type": "code",
   "execution_count": null,
   "metadata": {},
   "outputs": [],
   "source": [
    "..."
   ]
  },
  {
   "cell_type": "markdown",
   "metadata": {},
   "source": [
    "### Lösung"
   ]
  },
  {
   "cell_type": "code",
   "execution_count": null,
   "metadata": {},
   "outputs": [],
   "source": [
    "..."
   ]
  },
  {
   "cell_type": "markdown",
   "metadata": {},
   "source": [
    "## Teilaufgabe 2"
   ]
  },
  {
   "cell_type": "markdown",
   "metadata": {},
   "source": [
    "### Programmgerüst"
   ]
  },
  {
   "cell_type": "code",
   "execution_count": null,
   "metadata": {},
   "outputs": [],
   "source": [
    "..."
   ]
  },
  {
   "cell_type": "markdown",
   "metadata": {},
   "source": [
    "### Testfälle"
   ]
  },
  {
   "cell_type": "code",
   "execution_count": null,
   "metadata": {},
   "outputs": [],
   "source": [
    "..."
   ]
  },
  {
   "cell_type": "markdown",
   "metadata": {},
   "source": [
    "### Lösung"
   ]
  },
  {
   "cell_type": "code",
   "execution_count": null,
   "metadata": {},
   "outputs": [],
   "source": [
    "..."
   ]
  },
  {
   "cell_type": "markdown",
   "metadata": {
    "editable": true,
    "slideshow": {
     "slide_type": ""
    },
    "tags": []
   },
   "source": [
    "## Präsentation und Dokumentation\n",
    "Erstellen Sie aus diesem Notebook ein Pdf und eine Reveal.js-Präsentation und laden Sie\n",
    "\n",
    "- dieses Notebook\n",
    "- das Pdf\n",
    "- die Präsentation\n",
    "\n",
    "in OneNote im entsprechenden Blatt im Abschnitt Handouts hoch."
   ]
  }
 ],
 "metadata": {
  "kernelspec": {
   "display_name": "Python 3 (ipykernel)",
   "language": "python",
   "name": "python3"
  },
  "language_info": {
   "codemirror_mode": {
    "name": "ipython",
    "version": 3
   },
   "file_extension": ".py",
   "mimetype": "text/x-python",
   "name": "python",
   "nbconvert_exporter": "python",
   "pygments_lexer": "ipython3",
   "version": "3.11.10"
  }
 },
 "nbformat": 4,
 "nbformat_minor": 4
}
