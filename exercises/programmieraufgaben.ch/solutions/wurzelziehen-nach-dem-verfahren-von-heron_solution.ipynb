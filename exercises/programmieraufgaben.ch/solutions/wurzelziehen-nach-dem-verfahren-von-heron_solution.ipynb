{
 "cells": [
  {
   "cell_type": "code",
   "execution_count": null,
   "id": "2e1ac3f7",
   "metadata": {},
   "outputs": [],
   "source": [
    "from doctest import run_docstring_examples\n",
    "\n",
    "# In Python verwenden wir \"Decimal\" anstelle des Standarddatentyps \"float\", \n",
    "# wenn hohe Genauigkeit bei mathematischen Berechnungen erforderlich ist.\n",
    "from decimal import Decimal\n",
    "\n",
    "import logging\n",
    "logging.basicConfig(level=logging.DEBUG)"
   ]
  },
  {
   "cell_type": "markdown",
   "id": "f561165e",
   "metadata": {},
   "source": [
    "# Wurzelziehen nach dem Verfahren von Heron (Rekursion)\n",
    "\n",
    "Quelle: https://www.programmieraufgaben.ch/aufgabe/wurzelziehen-nach-dem-verfahren-von-heron/kugctg53\n",
    "\n",
    "## Quadratwurzel\n",
    "Schreiben Sie eine Funktion, welche die Quadratwurzel $a$ einer Zahl $A$ zieht, indem das Verfahren von Heron rekusiv angewendet wird.\n",
    "\n",
    "Rekursionsformel:\n",
    "$$ a_{1} = \\frac{A}{2}$$\n",
    "\n",
    "$$a_{i+1} =  \\frac{A + a_{i}^{2}}{2 \\cdot a_{i}}$$\n",
    "\n",
    "Abbruchbedingung Option A: Es kann kein genaueres Ergebnis mehr erzielt werden!\n",
    "\n",
    "$$ a_{i+1} == a_{i} $$\n",
    "\n",
    "Alternativ können Sie als Abbruchbedingung auch eine Schwelle $\\epsilon$ (z.B. $\\epsilon = 0.0000001$) definieren, bei deren Unterschreiten abgebrochen wird.\n",
    "\n",
    "Abbruchbedingung Option B:\n",
    "$$ abs(a_{i+1} - a_{i}) < \\epsilon$$\n",
    "\n",
    "Testen Sie Ihre Lösung. Welche Vor- und welche Nachteile hat Option B im Vergleich zu A? Terminieren beide Varianten stets? In welchem Intervall liegt der wahre Wert von $a$?\n",
    "\n",
    "## Maximale Rekursionstiefe\n",
    "Erweitern Sie Ihre Lösung, so dass auch abgebrochen wird, wenn eine gegebene, maximale Rekursionstiefe erreicht wurde. \n",
    "\n",
    "## Kubikwurzel\n",
    "Implementieren Sie nun die Kubikwurzel.\n",
    "\n",
    "Rekursionsformel:\n",
    "$$ a_{1} = \\frac{A}{3}$$\n",
    "\n",
    "$$a_{i+1} =  \\frac{A + 2 \\cdot a_{i}^{3}}{3 \\cdot a_{i}^{2}}$$\n",
    "\n",
    "## n-te Wurzel\n",
    "Implementieren Sie nun die n-te Wurzel. Führen Sie dabei die Aufrufe zu Quadrat- und Kubikwurzel auf die allgemeine Lösung zurück.\n",
    "\n",
    "Rekursionsformel:\n",
    "$$ a_{1} = \\frac{A}{n}$$\n",
    "\n",
    "$$a_{i+1} =  \\frac{A + (n - 1) \\cdot a_{i}^{n}}{n \\cdot a_{i}^{n-1}}$$"
   ]
  },
  {
   "cell_type": "markdown",
   "id": "121dc34f",
   "metadata": {},
   "source": [
    "## Musterlösung"
   ]
  },
  {
   "cell_type": "code",
   "execution_count": null,
   "id": "ac6984b3",
   "metadata": {},
   "outputs": [],
   "source": [
    "def quadratwurzel(A):\n",
    "    return n_te_wurzel_aus_A(Decimal(2), Decimal(A))\n",
    "\n",
    "def kubikwurzel(A):\n",
    "    return n_te_wurzel_aus_A(Decimal(3), Decimal(A))\n",
    "\n",
    "def n_te_wurzel_aus_A(n, A, recursions=500, a_i=None):\n",
    "    \"\"\"\n",
    "    Berechnet rekursiv die n-te Wurzel einer Zahl A > 0 mit maximaler Genauigkeit, \n",
    "    welche mit der gegebenen Anzahl recursions und der Genauigkeit des Datentyps\n",
    "    der Eingaben erreicht werden kann.\n",
    "    \n",
    "    >>> print(n_te_wurzel_aus_A(n=2, A=4))\n",
    "    2.0\n",
    "    \n",
    "    >>> print(n_te_wurzel_aus_A(n=2, A=5))\n",
    "    2.23606797749979\n",
    "\n",
    "    >>> print(n_te_wurzel_aus_A(n=3, A=8))\n",
    "    2.0\n",
    "\n",
    "    \"\"\"\n",
    "    assert A > 0\n",
    "\n",
    "    if a_i == None:  # a_1 setzen\n",
    "        a_i = A / n\n",
    "    \n",
    "    a_i_plus_1 = (A + (n - 1) * a_i**n) / (n * a_i**(n - 1))\n",
    "\n",
    "    abbruch = recursions < 1 or a_i_plus_1 == a_i\n",
    "\n",
    "    #logging.debug(\"{} {} {} {} {} {}\".format(A, n, recursions, a_i, a_i_plus_1, abbruch))\n",
    "\n",
    "    if abbruch:\n",
    "        return a_i_plus_1\n",
    "\n",
    "    return n_te_wurzel_aus_A(n, A, recursions - 1, a_i_plus_1)\n",
    "\n",
    "\n",
    "run_docstring_examples(n_te_wurzel_aus_A, locals())"
   ]
  },
  {
   "cell_type": "markdown",
   "id": "d5ea70ee",
   "metadata": {},
   "source": [
    "## Lösung testen"
   ]
  },
  {
   "cell_type": "code",
   "execution_count": null,
   "id": "55358842",
   "metadata": {},
   "outputs": [],
   "source": [
    "testzahlen = [2, 4, 100, 27]\n",
    "\n",
    "for zahl in testzahlen:\n",
    "    w2 = quadratwurzel(zahl)\n",
    "    w3 = kubikwurzel(zahl)\n",
    "    print(\"{} \\t Quadratwurzel: {} \\n\\t Kubikwurzel: {}\".format(zahl, w2, w3))"
   ]
  },
  {
   "cell_type": "markdown",
   "id": "040a1f3e",
   "metadata": {},
   "source": [
    "Nachfolgend ein Beispiel für Rundungsfehler, wenn mit float anstelle von Decimal gerechnet wird. Die zehnte Wurzel aus Einhundert hoch Zehn ist ja eindeutig Einhundert.\n",
    "\n",
    "$$ (100^{10})^{\\frac{1}{10}} = 100$$"
   ]
  },
  {
   "cell_type": "code",
   "execution_count": null,
   "id": "b5d6d297",
   "metadata": {},
   "outputs": [],
   "source": [
    "n = 10\n",
    "A = 100**10\n",
    "print(n_te_wurzel_aus_A(n, A))"
   ]
  },
  {
   "cell_type": "code",
   "execution_count": null,
   "id": "24f4a3f4",
   "metadata": {},
   "outputs": [],
   "source": [
    "n = Decimal(10)\n",
    "A = Decimal(100**10)\n",
    "print(n_te_wurzel_aus_A(n, A))"
   ]
  },
  {
   "cell_type": "markdown",
   "id": "a350482b",
   "metadata": {},
   "source": [
    "Wenn zu wenige Rekursionen verwendet werden, erreicht dieser Algorithmus allerdings kein befriedigendes Ergebnis"
   ]
  },
  {
   "cell_type": "code",
   "execution_count": null,
   "id": "13f799c9",
   "metadata": {},
   "outputs": [],
   "source": [
    "print(n_te_wurzel_aus_A(n, A, recursions=200))"
   ]
  }
 ],
 "metadata": {
  "kernelspec": {
   "display_name": "Python 3 (ipykernel)",
   "language": "python",
   "name": "python3"
  },
  "language_info": {
   "codemirror_mode": {
    "name": "ipython",
    "version": 3
   },
   "file_extension": ".py",
   "mimetype": "text/x-python",
   "name": "python",
   "nbconvert_exporter": "python",
   "pygments_lexer": "ipython3",
   "version": "3.9.14"
  },
  "latex_envs": {
   "LaTeX_envs_menu_present": true,
   "autoclose": false,
   "autocomplete": true,
   "bibliofile": "biblio.bib",
   "cite_by": "apalike",
   "current_citInitial": 1,
   "eqLabelWithNumbers": true,
   "eqNumInitial": 1,
   "hotkeys": {
    "equation": "Ctrl-E",
    "itemize": "Ctrl-I"
   },
   "labels_anchors": false,
   "latex_user_defs": false,
   "report_style_numbering": false,
   "user_envs_cfg": false
  },
  "toc": {
   "base_numbering": 1,
   "nav_menu": {},
   "number_sections": true,
   "sideBar": true,
   "skip_h1_title": false,
   "title_cell": "Table of Contents",
   "title_sidebar": "Contents",
   "toc_cell": false,
   "toc_position": {},
   "toc_section_display": true,
   "toc_window_display": true
  },
  "varInspector": {
   "cols": {
    "lenName": 16,
    "lenType": 16,
    "lenVar": 40
   },
   "kernels_config": {
    "python": {
     "delete_cmd_postfix": "",
     "delete_cmd_prefix": "del ",
     "library": "var_list.py",
     "varRefreshCmd": "print(var_dic_list())"
    },
    "r": {
     "delete_cmd_postfix": ") ",
     "delete_cmd_prefix": "rm(",
     "library": "var_list.r",
     "varRefreshCmd": "cat(var_dic_list()) "
    }
   },
   "types_to_exclude": [
    "module",
    "function",
    "builtin_function_or_method",
    "instance",
    "_Feature"
   ],
   "window_display": false
  }
 },
 "nbformat": 4,
 "nbformat_minor": 5
}
