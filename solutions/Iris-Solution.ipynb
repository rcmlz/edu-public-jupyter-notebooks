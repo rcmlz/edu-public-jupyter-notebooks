{
 "cells": [
  {
   "cell_type": "markdown",
   "id": "e9714c04-a278-4979-8e93-6dab473a77e9",
   "metadata": {
    "editable": true,
    "slideshow": {
     "slide_type": "slide"
    },
    "tags": []
   },
   "source": [
    "# Aufgabenstellung\n",
    "\n",
    "Analysieren Sie den [Iris-Datensatz](https://archive.ics.uci.edu/dataset/53/iris).\n",
    "\n",
    "## a) Berechnen Sie\n",
    "\n",
    "-  die Summe von Kelchblatt und Blütenblatt-Breite pro Messung (also für jede Zeile).\n",
    "\n",
    "sowie über alle Messungen\n",
    "\n",
    "-  die durchschnittliche Kelchblatt-Länge (sepal_length) und\n",
    "-  die durchschnittliche Blütenblatt-Breite (petal_width)\n",
    "\n",
    "jeweils insgesamt und pro Spezies.\n",
    "\n",
    "## b) Grafiken\n",
    "Erstellen Sie einige Grafiken aus den Daten.\n",
    "\n",
    "## c) Zusatz\n",
    "Testen Sie den Präsentationsmodus"
   ]
  },
  {
   "cell_type": "markdown",
   "id": "5ffeae50-8b58-457d-8683-0ca9531c4154",
   "metadata": {
    "editable": true,
    "slideshow": {
     "slide_type": "slide"
    },
    "tags": []
   },
   "source": [
    "# Daten einlesen"
   ]
  },
  {
   "cell_type": "markdown",
   "id": "c1d7edf7-6fb8-4aec-86ba-d866b2e5700f",
   "metadata": {
    "editable": true,
    "slideshow": {
     "slide_type": "notes"
    },
    "tags": []
   },
   "source": [
    "Der Iris-Datensatz dient in vielen Statistikpaketen zur Demonstration und ist deshalb in vielen Packete schon enthalten. Wir müssen hier also keine Daten aus einer csv-Datei einlesen."
   ]
  },
  {
   "cell_type": "code",
   "execution_count": null,
   "id": "77b7bc77-e48d-4cea-83e5-8805ba63dd40",
   "metadata": {
    "editable": true,
    "slideshow": {
     "slide_type": "subslide"
    },
    "tags": []
   },
   "outputs": [],
   "source": [
    "import seaborn as sns"
   ]
  },
  {
   "cell_type": "code",
   "execution_count": null,
   "id": "d50bf115-ed4f-417d-888a-d203f7a9b54f",
   "metadata": {
    "editable": true,
    "slideshow": {
     "slide_type": ""
    },
    "tags": []
   },
   "outputs": [],
   "source": [
    "iris = sns.load_dataset('iris')"
   ]
  },
  {
   "cell_type": "code",
   "execution_count": null,
   "id": "d1e247b6-4a8e-48ad-8ed1-7faa432065a4",
   "metadata": {
    "editable": true,
    "slideshow": {
     "slide_type": ""
    },
    "tags": []
   },
   "outputs": [],
   "source": [
    "iris.head()"
   ]
  },
  {
   "cell_type": "code",
   "execution_count": null,
   "id": "a00d4264-26eb-43cb-bf83-1d614fbcd9bc",
   "metadata": {
    "editable": true,
    "slideshow": {
     "slide_type": "subslide"
    },
    "tags": []
   },
   "outputs": [],
   "source": [
    "iris.tail()"
   ]
  },
  {
   "cell_type": "markdown",
   "id": "f13b1850-a527-4023-b3f9-4dbb7c715254",
   "metadata": {
    "editable": true,
    "slideshow": {
     "slide_type": "slide"
    },
    "tags": []
   },
   "source": [
    "# Daten verarbeiten"
   ]
  },
  {
   "cell_type": "markdown",
   "id": "94869658-f1a5-478a-b573-0f452a567cd4",
   "metadata": {
    "editable": true,
    "slideshow": {
     "slide_type": ""
    },
    "tags": []
   },
   "source": [
    "## Mittelwerte total"
   ]
  },
  {
   "cell_type": "code",
   "execution_count": null,
   "id": "6152bd47-3514-4d78-8966-016bb7ce02c5",
   "metadata": {
    "editable": true,
    "scrolled": true,
    "slideshow": {
     "slide_type": "fragment"
    },
    "tags": []
   },
   "outputs": [],
   "source": [
    "mittelwerte = iris.loc[:,['sepal_length','sepal_width','petal_length','petal_width']].mean()\n",
    "\n",
    "mittelwerte"
   ]
  },
  {
   "cell_type": "markdown",
   "id": "c76ef0a6-1fc7-43e8-9230-f6943cb695fc",
   "metadata": {
    "editable": true,
    "slideshow": {
     "slide_type": "notes"
    },
    "tags": []
   },
   "source": [
    "## Mittelwerte pro Spezies"
   ]
  },
  {
   "cell_type": "code",
   "execution_count": null,
   "id": "ab8f00fc-3da0-40fd-b9f2-0df8543d9f17",
   "metadata": {
    "editable": true,
    "slideshow": {
     "slide_type": "subslide"
    },
    "tags": []
   },
   "outputs": [],
   "source": [
    "mittelwerte_pro_spezies = iris.groupby('species').mean()\n",
    "\n",
    "mittelwerte_pro_spezies"
   ]
  },
  {
   "cell_type": "markdown",
   "id": "205b92b3-4c3a-43a5-b4a4-785dc608a2ad",
   "metadata": {
    "editable": true,
    "slideshow": {
     "slide_type": ""
    },
    "tags": []
   },
   "source": [
    "## Summe Kelch- und Blütenblattbreite"
   ]
  },
  {
   "cell_type": "code",
   "execution_count": null,
   "id": "329f09fd-a3b9-4b51-b0f3-0586061fc60e",
   "metadata": {
    "editable": true,
    "slideshow": {
     "slide_type": ""
    },
    "tags": []
   },
   "outputs": [],
   "source": [
    "# axis = 1 sums up the rows\n",
    "iris['sum_length'] = iris.loc[:,['sepal_width','petal_width']].sum(axis=1)\n",
    "\n",
    "iris.head()"
   ]
  },
  {
   "cell_type": "markdown",
   "id": "1d5d78f6-252a-4df0-8d32-22dccebbe170",
   "metadata": {
    "editable": true,
    "slideshow": {
     "slide_type": "slide"
    },
    "tags": []
   },
   "source": [
    "# Ergebnisse darstellen"
   ]
  },
  {
   "cell_type": "code",
   "execution_count": null,
   "id": "2f57eeb2-c7e2-46c9-89bb-1b61881591ca",
   "metadata": {
    "editable": true,
    "slideshow": {
     "slide_type": ""
    },
    "tags": []
   },
   "outputs": [],
   "source": [
    "import matplotlib.pyplot as plt"
   ]
  },
  {
   "cell_type": "markdown",
   "id": "8a196887-2a29-4bf5-9133-c82d8c8336db",
   "metadata": {
    "editable": true,
    "slideshow": {
     "slide_type": "notes"
    },
    "tags": []
   },
   "source": [
    "## Mittelwerte total"
   ]
  },
  {
   "cell_type": "code",
   "execution_count": null,
   "id": "142e8ae4-7978-49d0-b868-ac11be885d5e",
   "metadata": {
    "editable": true,
    "slideshow": {
     "slide_type": ""
    },
    "tags": []
   },
   "outputs": [],
   "source": [
    "y = mittelwerte\n",
    "x = mittelwerte.index\n",
    "\n",
    "plt.bar(x,y)\n",
    "\n",
    "plt.ylabel(\"Mittelwert [cm]\")\n",
    "plt.title(\"Iris Datensatz Mittelwerte\")\n",
    "\n",
    "plt.savefig('mittelwerte.png')\n",
    "\n",
    "plt.show()"
   ]
  },
  {
   "cell_type": "markdown",
   "id": "5b40fa8f-40c3-444a-adac-cec2c61cd7da",
   "metadata": {
    "editable": true,
    "slideshow": {
     "slide_type": ""
    },
    "tags": []
   },
   "source": [
    "## Mittelwerte pro Spezies\n",
    "\n",
    "`pandas`-DataFrames können auch direkt benutzt werden, [um Grafiken zu erzeugen](https://pandas.pydata.org/pandas-docs/stable/reference/api/pandas.DataFrame.plot.html). ."
   ]
  },
  {
   "cell_type": "code",
   "execution_count": null,
   "id": "52dfd3c5-c104-4227-8d46-edb523b3dc75",
   "metadata": {
    "editable": true,
    "slideshow": {
     "slide_type": ""
    },
    "tags": []
   },
   "outputs": [],
   "source": [
    "mittelwerte_pro_spezies.plot(kind='bar')\n",
    "\n",
    "plt.savefig('mittelwerte_pro_spezies.png')\n",
    "\n",
    "plt.show()"
   ]
  },
  {
   "cell_type": "markdown",
   "id": "fc6fafff-94bb-43ec-9811-0ab9ce831b05",
   "metadata": {
    "editable": true,
    "slideshow": {
     "slide_type": ""
    },
    "tags": []
   },
   "source": [
    "## Summe Kelchblatt und Blütenblatt"
   ]
  },
  {
   "cell_type": "code",
   "execution_count": null,
   "id": "b496a61e-0307-4b31-9b7b-42c64cc606be",
   "metadata": {
    "editable": true,
    "slideshow": {
     "slide_type": ""
    },
    "tags": []
   },
   "outputs": [],
   "source": [
    "iris.plot()\n",
    "\n",
    "plt.savefig('summe_breite.png')\n",
    "\n",
    "plt.show()"
   ]
  },
  {
   "cell_type": "code",
   "execution_count": null,
   "id": "f7a8b8c8-4207-4a3a-ab9a-8fe0b50161d9",
   "metadata": {
    "editable": true,
    "slideshow": {
     "slide_type": ""
    },
    "tags": []
   },
   "outputs": [],
   "source": [
    "iris.groupby('species').plot(subplots=True)\n",
    "\n",
    "plt.savefig('summe_breite_pro_spezies.png')\n",
    "\n",
    "plt.show()"
   ]
  }
 ],
 "metadata": {
  "authors": [
   {
    "name": "Jane Doe"
   }
  ],
  "kernelspec": {
   "display_name": "Python 3 (ipykernel)",
   "language": "python",
   "name": "python3"
  },
  "language_info": {
   "codemirror_mode": {
    "name": "ipython",
    "version": 3
   },
   "file_extension": ".py",
   "mimetype": "text/x-python",
   "name": "python",
   "nbconvert_exporter": "python",
   "pygments_lexer": "ipython3",
   "version": "3.12.11"
  },
  "title": "Iris Datensatz Analyse"
 },
 "nbformat": 4,
 "nbformat_minor": 5
}
