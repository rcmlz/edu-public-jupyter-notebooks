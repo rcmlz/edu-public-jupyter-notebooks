{
 "cells": [
  {
   "cell_type": "markdown",
   "id": "36f91295",
   "metadata": {},
   "source": [
    "# Wie Sie dieses Notebook nutzen:\n",
    "- Führen Sie diesen Code Zelle für Zelle aus.\n",
    "- Um die Variableninhalte zu beobachten, nutzen Sie in Jupyter-Classic den \"Variable Inspektor\". Falls Sie dieses Notebook in Jupyter-Lab verwenden, nutzen Sie hierfür den eingebauten Debugger.\n",
    "- Wenn Sie \"Code Tutor\" zur Visualisierung des Ablaufes einzelner Zellen nutzen möchten, führen Sie einmalig die nachfolgende Zelle aus. Anschliessend schreiben Sie %%tutor in die erste Zeile jeder Zelle, die Sie visualisieren möchten.\n",
    "- Die Dokumentation von [range()](https://docs.python.org/3/library/stdtypes.html?highlight=range#range), [len()](https://docs.python.org/3/library/functions.html?highlight=len#len) und allen anderen eingebauten Funktionen finden Sie auf [docs.python.org](https://docs.python.org/3/library/functions.html)\n",
    "- Der [Spickzettel](https://rocco.melzian.ch/archiv/www.jython.ch/download/spickzettel.pdf) leistet vielfach gute Dienste."
   ]
  },
  {
   "cell_type": "code",
   "execution_count": null,
   "id": "eb41baae",
   "metadata": {},
   "outputs": [],
   "source": [
    "# Für Code Tutor Visualisierungen\n",
    "from metakernel import register_ipython_magics\n",
    "register_ipython_magics()"
   ]
  },
  {
   "cell_type": "code",
   "execution_count": null,
   "id": "6a50d59a",
   "metadata": {},
   "outputs": [],
   "source": [
    "# Für im Docstring eingebettete Tests\n",
    "from doctest import run_docstring_examples\n",
    "\n",
    "# Für Erzeugung von Zufalls-Spielfeldern\n",
    "import random"
   ]
  },
  {
   "cell_type": "markdown",
   "id": "7324e858",
   "metadata": {},
   "source": [
    "### Rekursion - eine Anwendung\n",
    "\n",
    "#### Aufgabenstellung\n",
    "Sie möchten auf einem $n$ x $m$ Spielfeld vom Startfeld $S$ zum Zielfeld $Z$ laufen und dabei möglichst viele Punkte sammeln. Sie dürfen sich in jedem Zug nur je ein Feld nach rechts oder ein Feld abwärts bewegen. Diagonale Bewegungen sind nicht erlaubt.\n",
    "\n",
    "Jedes Feld enhält eine Ihnen vorab bekannte Punktzahl ( > 0 ), die Sie beim Betreten einsammeln können.\n",
    "\n",
    "Was ist die maximale Punktzahl welche Sie erzielen können, wenn Sie auf folgendem $m$ x $n$ Spielfeld von $S=(0,0)$ nach $Z(m-1,n-1)$ gehen?\n",
    "\n",
    "#### Beispiel\n",
    "S = (0,0) links oben, Z = (3,3) rechts unten\n",
    "\n",
    "<table>\n",
    "<tr>\n",
    "<td></td>\n",
    "<td>j</td>\n",
    "</tr>\n",
    "<tr>\n",
    "<td>i</td>\n",
    "<td>\n",
    "<table>\n",
    "<tr>\n",
    "<td><b><i>1</i></b></td>\n",
    "<td><b>3</b></td>\n",
    "<td><b>4</b></td>\n",
    "<td>1</td>\n",
    "</tr>\n",
    "<tr>\n",
    "<td>2</td>\n",
    "<td>3</td>\n",
    "<td><b>6</b></td>\n",
    "<td><b>8</b></td>\n",
    "</tr>\n",
    "<tr>\n",
    "<td>1</td>\n",
    "<td>2</td>\n",
    "<td>2</td>\n",
    "<td><b>3</b></td>\n",
    "</tr>\n",
    "<tr>\n",
    "<td>4</td>\n",
    "<td>3</td>\n",
    "<td>2</td>\n",
    "<td><b><i>2</i></b></td>\n",
    "</tr>\n",
    "</table>\n",
    "</td>\n",
    "</tr>\n",
    "</table>\n",
    "\n",
    "\n",
    "Lösung: 1 + 3 + 4 + 6 + 8 + 3 + 2 = 27"
   ]
  },
  {
   "cell_type": "code",
   "execution_count": null,
   "id": "6f936f22",
   "metadata": {},
   "outputs": [],
   "source": [
    "DEMO_MATRIX_0 = [\n",
    "    [1]\n",
    "]\n",
    "\n",
    "DEMO_MATRIX_1 = [\n",
    "    [0, 3],\n",
    "    [4, 0]\n",
    "]\n",
    "\n",
    "DEMO_MATRIX_2 = [\n",
    "    [1, 3, 3],\n",
    "    [1, 1, 1],\n",
    "    [1, 4, 1]\n",
    "]\n",
    "\n",
    "DEMO_MATRIX_3 = [\n",
    "    [1, 3, 4, 1],\n",
    "    [2, 3, 6, 8],\n",
    "    [1, 2, 2, 3],\n",
    "    [4, 3, 2, 2]\n",
    "]"
   ]
  },
  {
   "cell_type": "markdown",
   "id": "591be8ac",
   "metadata": {},
   "source": [
    "#### Implementierung mit SuS\n",
    "##### Setup\n",
    "- {1,4,9,16,...} Schülerinnen und Schüler stellen sich als $m$ x $n$ Matrix auf und\n",
    "- blicken zur Tafel und bleiben in dieser Blickrichtung stehen und\n",
    "- identifizieren den zu ihrer Position zugehörigen Feldwert in der Matrix und\n",
    "- merken sich diesen Feldwert (oder notieren Sie diesen auf einem kleinen Spickzettel).\n",
    "\n",
    "##### Algorithmus\n",
    "Wenn Sie nun nach den Punkten auf ihrem Feld gefragt werden, dann:\n",
    "\n",
    "- Berechnen Sie\n",
    "\n",
    "$$meine\\_punkte = mein\\_feldwert + max(punkte\\_oben, punkte\\_links)$$\n",
    "\n",
    "- Dazu fragen Sie zuerst die Person links neben Ihnen nach ihren Punkten und warten die Antwort ab.\n",
    "- Dann fragen Sie die Person vor Ihnen und warten die Antwort ab.\n",
    "- Wenn keine Person vor und/oder links neben Ihnen steht (Sie also auf dem Rand der Matrix stehen), nehmen Sie jeweils den Wert 0 als Punktzahl für die fehlende Person an.*** \n",
    "- Berechnen Sie nun die Summe Ihres Feldwertes plus dem Maximum der beiden Antworten, die Sie von vorn und links erhalten haben\n",
    "- und antworten nun Ihrerseits mit dem Ergebnis ($meine\\_punkte$) ihrer Berechnung.\n",
    "\n",
    "*** Wenn Sie also bspw. auf Feld (i=0,j=0) stehen (ganz links oben), können Sie direkt mit ihrem Feldwert antworten, da niemand vor oder links neben ihnen steht!\n",
    "\n",
    "##### Anwendung\n",
    "Wenn L nun wissen will, wieviele Punkte maximal auf dem Weg von $S$ nach $Z$ einer Matrix gesammelt werden können, dann\n",
    "\n",
    "- erzeugt L die Matrix und stellt diese an der Tafel dar und dann\n",
    "- bittet L seine SuS, die Schritte aus dem Setup auszuführen und dann\n",
    "- fragt L den/die SoS auf dem Zielfeld nach seiner Punktzahl und dann\n",
    "- wartet L bis die Anwort gegeben wurde.\n",
    "\n",
    "##### Erweiterung des Algorithmus\n",
    "- merken Sie sich, wie oft Sie nach Ihren Punkten gefragt werden und\n",
    "- nach Abschluss der Berechnung schreiben Sie diese Zahl in die leere Matrix an der Tafel.\n",
    "\n",
    "##### Fragen an die beobachtenden Schülerinnen und Schüler\n",
    "- Warum löst dieser simple Algorithmus ein so komplexes Problem? Jede Person kennt doch nur ihren eigenen Feldwert und führt lediglich eine extrem einfache Berechnung (meine_punkte = mein_feldwert + max(punkte_oben, punkte_links)) aus? Seltsam ... ?!!??\n",
    "  * Wir erleben das Wunder der Rekursion, live!\n",
    "- Ist der Algorithmus effizient im dem Sinne, das nichts doppelt berechnet wird?\n",
    "  * nein\n",
    "- Wie kann der Algorithmus verbessert werden?\n",
    "  * Caching (jede Person berechnet nur einmal ihre Punktzahl und merkt sich diese)\n",
    "  * Parallelisierung (die Person davor und links werden gleichzeitig gefragt, es wird nicht die Antwort der ersten person abgewartet, bevor die zweite Person befragt wird.)"
   ]
  },
  {
   "cell_type": "markdown",
   "id": "2730cb54",
   "metadata": {},
   "source": [
    "#### Implementierung in Python\n",
    "\n",
    "##### Rekursiver Lösungsansatz\n",
    "- Gegeben: m x n - Matrix\n",
    "- Abbruchbedingung:\n",
    "    * ausserhalb des Spielfeldes (i < 0 oder j < 0 oder i >= m, j >= n -> return 0) angekommen?\n",
    "- Rekursionsgleichung:\n",
    "    * f(i,j) = matrix(i, j) + max( f(i - 1, j), f(i, j - 1) )\n",
    "    \n",
    "##### Python-Implementierung"
   ]
  },
  {
   "cell_type": "code",
   "execution_count": null,
   "id": "2faebe35",
   "metadata": {},
   "outputs": [],
   "source": [
    "def max_punkte(matrix, i, j):\n",
    "    \"\"\"\n",
    "    Berechnet die maximal möglichen Punkte vom Start (i=0, j=0) bis zu den \n",
    "    Zielkoordinaten in Parametern i und j.\n",
    "    \n",
    "    Tests:\n",
    "    \n",
    "    >>> print(max_punkte(DEMO_MATRIX_0, 0, 0))\n",
    "    1\n",
    "\n",
    "    >>> print(max_punkte(DEMO_MATRIX_1, 1, 1))\n",
    "    4\n",
    "\n",
    "    >>> print(max_punkte(DEMO_MATRIX_2, 2, 2))\n",
    "    10\n",
    "\n",
    "    >>> print(max_punkte(DEMO_MATRIX_3, 3, 3))\n",
    "    27\n",
    "\n",
    "    \"\"\"\n",
    "    m = len(matrix)    # Anzahl Zeile der gegebenen Matrix\n",
    "    n = len(matrix[0]) # Anzahl Spalten der gegebenen Matrix\n",
    "    \n",
    "    if i < 0 or i >= m or j < 0 or j >= n :  # Abbruchbedingung: i,j ausserhalb der Matrix\n",
    "        return 0\n",
    "\n",
    "    punkte_auf_weg_von_oben = max_punkte(matrix, i - 1, j)\n",
    "    punkte_auf_weg_von_links = max_punkte(matrix, i, j - 1)\n",
    "\n",
    "    return matrix[i][j] + max(punkte_auf_weg_von_oben, punkte_auf_weg_von_links)\n",
    "\n",
    "# Testen\n",
    "run_docstring_examples(max_punkte, locals())"
   ]
  },
  {
   "cell_type": "markdown",
   "id": "54b1b21d",
   "metadata": {},
   "source": [
    "##### Anwendung der Lösung"
   ]
  },
  {
   "cell_type": "code",
   "execution_count": null,
   "id": "f8c2c723",
   "metadata": {},
   "outputs": [],
   "source": [
    "m = 2\n",
    "n = 3\n",
    "eine_zufaellige_matrix = list(random.choices(range(1,10), k=n) for _ in range(m)) # siehe https://docs.python.org/3/library/random.html?highlight=random.choices#random.choices\n",
    "\n",
    "for zeile in eine_zufaellige_matrix:\n",
    "    print(zeile)"
   ]
  },
  {
   "cell_type": "code",
   "execution_count": null,
   "id": "54224b5e",
   "metadata": {},
   "outputs": [],
   "source": [
    "msg = \"Sie können maximal {} Punkte erreichen, wenn Sie durch dieses {} x {} Spielfeld gehen.\"\n",
    "maximale_punkte = max_punkte(eine_zufaellige_matrix, m-1, n-1)\n",
    "print(msg.format(maximale_punkte, m, n))"
   ]
  }
 ],
 "metadata": {
  "kernelspec": {
   "display_name": "Python 3 (ipykernel)",
   "language": "python",
   "name": "python3"
  },
  "language_info": {
   "codemirror_mode": {
    "name": "ipython",
    "version": 3
   },
   "file_extension": ".py",
   "mimetype": "text/x-python",
   "name": "python",
   "nbconvert_exporter": "python",
   "pygments_lexer": "ipython3",
   "version": "3.9.9"
  },
  "latex_envs": {
   "LaTeX_envs_menu_present": true,
   "autoclose": false,
   "autocomplete": true,
   "bibliofile": "biblio.bib",
   "cite_by": "apalike",
   "current_citInitial": 1,
   "eqLabelWithNumbers": true,
   "eqNumInitial": 1,
   "hotkeys": {
    "equation": "Ctrl-E",
    "itemize": "Ctrl-I"
   },
   "labels_anchors": false,
   "latex_user_defs": false,
   "report_style_numbering": false,
   "user_envs_cfg": false
  },
  "toc": {
   "base_numbering": 1,
   "nav_menu": {},
   "number_sections": true,
   "sideBar": true,
   "skip_h1_title": true,
   "title_cell": "Table of Contents",
   "title_sidebar": "Contents",
   "toc_cell": false,
   "toc_position": {},
   "toc_section_display": true,
   "toc_window_display": true
  },
  "varInspector": {
   "cols": {
    "lenName": 16,
    "lenType": 16,
    "lenVar": 40
   },
   "kernels_config": {
    "python": {
     "delete_cmd_postfix": "",
     "delete_cmd_prefix": "del ",
     "library": "var_list.py",
     "varRefreshCmd": "print(var_dic_list())"
    },
    "r": {
     "delete_cmd_postfix": ") ",
     "delete_cmd_prefix": "rm(",
     "library": "var_list.r",
     "varRefreshCmd": "cat(var_dic_list()) "
    }
   },
   "position": {
    "height": "438.85px",
    "left": "1070px",
    "right": "20px",
    "top": "120px",
    "width": "350px"
   },
   "types_to_exclude": [
    "module",
    "function",
    "builtin_function_or_method",
    "instance",
    "_Feature"
   ],
   "window_display": false
  }
 },
 "nbformat": 4,
 "nbformat_minor": 5
}
