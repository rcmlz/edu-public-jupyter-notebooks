{
 "cells": [
  {
   "cell_type": "markdown",
   "id": "8cb0ba22-3316-4198-b91d-85696fa0687c",
   "metadata": {},
   "source": [
    "### Flussdiagramme\n",
    "\n",
    "Algorithmen lassen sich gut in Flussdiagrammen darstellen. Diese kannst du bspw. auf https://mermaid.live/ zeichen und dann den Quellcode direkt in Jupyter einfügen.\n",
    "\n",
    "```mermaid\n",
    "flowchart LR\n",
    "\n",
    "A[Hard] -->|Text| B(Round)\n",
    "B --> C{Decision}\n",
    "C -->|One| D[Result 1]\n",
    "C -->|Two| E[Result 2]\n",
    "```"
   ]
  }
 ],
 "metadata": {
  "kernelspec": {
   "display_name": "Python 3 (ipykernel)",
   "language": "python",
   "name": "python3"
  },
  "language_info": {
   "codemirror_mode": {
    "name": "ipython",
    "version": 3
   },
   "file_extension": ".py",
   "mimetype": "text/x-python",
   "name": "python",
   "nbconvert_exporter": "python",
   "pygments_lexer": "ipython3",
   "version": "3.11.10"
  }
 },
 "nbformat": 4,
 "nbformat_minor": 5
}
