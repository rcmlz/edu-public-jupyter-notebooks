{
 "cells": [
  {
   "cell_type": "markdown",
   "id": "7e397054-0b3b-492b-8025-96e717ec0f5d",
   "metadata": {},
   "source": [
    "# CSV-Dateien\n",
    "\n",
    "Wir treffen häufig auf Komma-separierte Dateien (csv) zum Datenaustausch.\n",
    "\n",
    "## einlesen"
   ]
  },
  {
   "cell_type": "code",
   "execution_count": null,
   "id": "457c639b-5e1f-49a0-b697-494efd20d714",
   "metadata": {},
   "outputs": [],
   "source": [
    "import csv\n",
    "\n",
    "data = []\n",
    "with open('data.csv') as csvfile:\n",
    "    for row in csv.reader(csvfile):\n",
    "        data.append(row)\n",
    "\n",
    "data"
   ]
  },
  {
   "cell_type": "markdown",
   "id": "34a448da-ee01-4421-9894-4aafa8817123",
   "metadata": {},
   "source": [
    "Einfacher geht es mit [pandas](https://pandas.pydata.org/docs/getting_started/intro_tutorials/02_read_write.html)"
   ]
  },
  {
   "cell_type": "code",
   "execution_count": null,
   "id": "0164dc58-ff64-4ebe-a035-320ab3cc7cc3",
   "metadata": {},
   "outputs": [],
   "source": [
    "import pandas as pd\n",
    "\n",
    "data = pd.read_csv(\"data.csv\")\n",
    "\n",
    "data"
   ]
  },
  {
   "cell_type": "markdown",
   "id": "adfe75c9-973c-467c-9b36-0dd9bfb89277",
   "metadata": {},
   "source": [
    "#### schreiben"
   ]
  },
  {
   "cell_type": "code",
   "execution_count": null,
   "id": "27ecd228-81e3-4a65-ad72-c9e7aceba8a2",
   "metadata": {},
   "outputs": [],
   "source": [
    "import csv\n",
    "\n",
    "data = [\n",
    "    ['name','alter','grösse'],\n",
    "    ['Alice',17,170],\n",
    "    ['Bob',19,182],\n",
    "    ['Eve',18,163]\n",
    "]\n",
    "\n",
    "with open('messwerte.csv', 'w') as csvfile:\n",
    "    writer = csv.writer(csvfile)\n",
    "    for row in data:\n",
    "        writer.writerow(row)"
   ]
  },
  {
   "cell_type": "markdown",
   "id": "02430cb1-ff0d-496c-ab1b-e5870c462b0e",
   "metadata": {},
   "source": [
    "Mit `pandas` geht es so. Hinweis: die Spaltennamen sind im ersten Element unseres Beispieldatensatzes, die eigentlichen Daten in den nachfolgenden."
   ]
  },
  {
   "cell_type": "code",
   "execution_count": null,
   "id": "864244bc-ac6d-4fc7-b339-3e7b9088b2b6",
   "metadata": {},
   "outputs": [],
   "source": [
    "print(data[0])"
   ]
  },
  {
   "cell_type": "code",
   "execution_count": null,
   "id": "40d4b0fb-192d-4147-8469-40773f610fff",
   "metadata": {},
   "outputs": [],
   "source": [
    "print(data[1:])"
   ]
  },
  {
   "cell_type": "code",
   "execution_count": null,
   "id": "3d06538e-6239-403f-bcbd-194d22b1817b",
   "metadata": {},
   "outputs": [],
   "source": [
    "# pandas data frame erzeugen\n",
    "df = pd.DataFrame(data[1:], columns=data[0])\n",
    "\n",
    "# data frame als csv speichern\n",
    "df.to_csv(\"messwerte1.csv\", index=False)"
   ]
  }
 ],
 "metadata": {
  "kernelspec": {
   "display_name": "Python 3 (ipykernel)",
   "language": "python",
   "name": "python3"
  },
  "language_info": {
   "codemirror_mode": {
    "name": "ipython",
    "version": 3
   },
   "file_extension": ".py",
   "mimetype": "text/x-python",
   "name": "python",
   "nbconvert_exporter": "python",
   "pygments_lexer": "ipython3",
   "version": "3.11.10"
  }
 },
 "nbformat": 4,
 "nbformat_minor": 5
}
