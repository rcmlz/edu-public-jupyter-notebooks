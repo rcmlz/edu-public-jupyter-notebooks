{
 "cells": [
  {
   "cell_type": "markdown",
   "id": "e9714c04-a278-4979-8e93-6dab473a77e9",
   "metadata": {
    "editable": true,
    "slideshow": {
     "slide_type": "slide"
    },
    "tags": []
   },
   "source": [
    "# Aufgabenstellung\n",
    "\n",
    "Hier die Frage, welche dieser Bericht beantworten soll. Vielleicht mit ein paar Bildern und Beispielen ..."
   ]
  },
  {
   "cell_type": "markdown",
   "id": "5ffeae50-8b58-457d-8683-0ca9531c4154",
   "metadata": {
    "editable": true,
    "slideshow": {
     "slide_type": "slide"
    },
    "tags": []
   },
   "source": [
    "# Daten einlesen\n",
    "\n",
    "I.d.R. mit `pandas` die Daten einlesen."
   ]
  },
  {
   "cell_type": "code",
   "execution_count": null,
   "id": "77b7bc77-e48d-4cea-83e5-8805ba63dd40",
   "metadata": {
    "editable": true,
    "slideshow": {
     "slide_type": "subslide"
    },
    "tags": []
   },
   "outputs": [],
   "source": [
    "import pandas as pd"
   ]
  },
  {
   "cell_type": "code",
   "execution_count": null,
   "id": "a00d4264-26eb-43cb-bf83-1d614fbcd9bc",
   "metadata": {
    "editable": true,
    "slideshow": {
     "slide_type": "subslide"
    },
    "tags": []
   },
   "outputs": [],
   "source": [
    "df = pd.read_csv(\"data.csv\")\n",
    "\n",
    "df"
   ]
  },
  {
   "cell_type": "markdown",
   "id": "f13b1850-a527-4023-b3f9-4dbb7c715254",
   "metadata": {
    "editable": true,
    "slideshow": {
     "slide_type": "slide"
    },
    "tags": []
   },
   "source": [
    "# Daten verarbeiten\n",
    "\n",
    "Jetzt mit Hilfe der eingelesenen Daten die Aufgabenstellung bearbeiten. Show your thinking!\n",
    "\n",
    "ChatGPT/Copilot: [Erkläre einem Schüler im 10. Schuljahr detailiert den folgenden Code.](https://chatgpt.com/share/68c6a823-c684-8009-9e31-a09309c664bc)"
   ]
  },
  {
   "cell_type": "code",
   "execution_count": null,
   "id": "6152bd47-3514-4d78-8966-016bb7ce02c5",
   "metadata": {
    "editable": true,
    "slideshow": {
     "slide_type": "fragment"
    },
    "tags": []
   },
   "outputs": [],
   "source": [
    "# axis = 1 sums up the rows\n",
    "df['summe_spalte1_und_spalte2'] = df.loc[:,['Spalte1' , 'Spalte2']].sum(axis = 1)\n",
    "\n",
    "df"
   ]
  },
  {
   "cell_type": "markdown",
   "id": "c76ef0a6-1fc7-43e8-9230-f6943cb695fc",
   "metadata": {
    "editable": true,
    "slideshow": {
     "slide_type": "notes"
    },
    "tags": []
   },
   "source": [
    "Nun wird ... berechnet ... weil ... und dann noch ... und ..."
   ]
  },
  {
   "cell_type": "code",
   "execution_count": null,
   "id": "ab8f00fc-3da0-40fd-b9f2-0df8543d9f17",
   "metadata": {
    "editable": true,
    "slideshow": {
     "slide_type": "subslide"
    },
    "tags": []
   },
   "outputs": [],
   "source": [
    "df['wilde_berechnung'] = (df['Spalte3'] * df['summe_spalte1_und_spalte2'] / df['Spalte1']) % 17\n",
    "\n",
    "df"
   ]
  },
  {
   "cell_type": "markdown",
   "id": "1d5d78f6-252a-4df0-8d32-22dccebbe170",
   "metadata": {
    "editable": true,
    "slideshow": {
     "slide_type": "slide"
    },
    "tags": []
   },
   "source": [
    "# Ergebnisse darstellen"
   ]
  },
  {
   "cell_type": "markdown",
   "id": "8a196887-2a29-4bf5-9133-c82d8c8336db",
   "metadata": {
    "editable": true,
    "slideshow": {
     "slide_type": "notes"
    },
    "tags": []
   },
   "source": [
    "Jetzt alles so ausgeben, damit es andere auch verstehen. Auch praktiscch, falls man in einer Präsentation eine Grafik benötigt ... ein Bild sagt mehr als tausend Worte."
   ]
  },
  {
   "cell_type": "code",
   "execution_count": null,
   "id": "2f57eeb2-c7e2-46c9-89bb-1b61881591ca",
   "metadata": {
    "editable": true,
    "slideshow": {
     "slide_type": ""
    },
    "tags": []
   },
   "outputs": [],
   "source": [
    "import matplotlib.pyplot as plt"
   ]
  },
  {
   "cell_type": "markdown",
   "id": "5b40fa8f-40c3-444a-adac-cec2c61cd7da",
   "metadata": {
    "editable": true,
    "slideshow": {
     "slide_type": ""
    },
    "tags": []
   },
   "source": [
    "Wir stellen auf der x-Achse die Zahlen 0..3 dar und auf der y-Achse unsere tolle Berechnung."
   ]
  },
  {
   "cell_type": "code",
   "execution_count": null,
   "id": "142e8ae4-7978-49d0-b868-ac11be885d5e",
   "metadata": {
    "editable": true,
    "slideshow": {
     "slide_type": ""
    },
    "tags": []
   },
   "outputs": [],
   "source": [
    "y = df['wilde_berechnung']\n",
    "x = df.index\n",
    "\n",
    "plt.bar(x, y, color='skyblue')\n",
    "\n",
    "plt.xlabel(\"Typ\")\n",
    "plt.ylabel(\"Berechung [m/s]\")\n",
    "plt.title(\"Bar Chart Example\")\n",
    "\n",
    "plt.savefig('bericht.png')\n",
    "\n",
    "plt.show()"
   ]
  },
  {
   "cell_type": "markdown",
   "id": "11b50d79-a4c3-45df-b84d-d2ddfb82b27b",
   "metadata": {
    "editable": true,
    "slideshow": {
     "slide_type": ""
    },
    "tags": []
   },
   "source": [
    "# Anhang\n",
    "\n",
    "## Präsentation\n",
    "Versuche doch mal, das Notizbuch als Slideshow zu exportieren. In der Slideshow, drücke dann \"s\" (wenn du online bist)."
   ]
  },
  {
   "cell_type": "markdown",
   "id": "970ebabd-41eb-4636-bda2-0e34eb55a9fa",
   "metadata": {
    "editable": true,
    "slideshow": {
     "slide_type": ""
    },
    "tags": []
   },
   "source": [
    "## PDF-Export\n",
    "Damit beim Export nach pdf (`File -> Save and Export Notebook As`) der Titel und die Autoren richtig angezeigt werden, müssen wir in den Metadaten diese Notizbuches erfassen. Es läuft darauf hinaus, dieses Notizbuch bspw. in einem Texteditor zu öffnen und am Ende im Bereich `metadata` die beiden Einträge für `authors` und `title` Felder hinzuzufügen. Du kannst auch noch das Feld `date` setzen, wenn du nicht das aktuelle Datum zeigen möchtest.\n",
    "\n",
    "```json\n",
    "\"metadata\": {\n",
    "   \"authors\": [\n",
    "        {\n",
    "            \"name\": \"Jane Doe\"\n",
    "        },\n",
    "        {\n",
    "            \"name\": \"John Doe\"\n",
    "        }\n",
    "    ],\n",
    "    \"title\": \"Mein erster Report\",\n",
    "    ...\n",
    "}\n",
    "```\n",
    "\n",
    "vgl: [nbconvert](https://nbconvert.readthedocs.io/en/latest/usage.html#latex)"
   ]
  }
 ],
 "metadata": {
  "authors": [
   {
    "name": "Jane Doe"
   },
   {
    "name": "John Doe"
   }
  ],
  "kernelspec": {
   "display_name": "Python 3 (ipykernel)",
   "language": "python",
   "name": "python3"
  },
  "language_info": {
   "codemirror_mode": {
    "name": "ipython",
    "version": 3
   },
   "file_extension": ".py",
   "mimetype": "text/x-python",
   "name": "python",
   "nbconvert_exporter": "python",
   "pygments_lexer": "ipython3",
   "version": "3.12.11"
  },
  "title": "Mein erster Report"
 },
 "nbformat": 4,
 "nbformat_minor": 5
}
