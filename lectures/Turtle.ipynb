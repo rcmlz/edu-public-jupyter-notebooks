{
 "cells": [
  {
   "cell_type": "markdown",
   "id": "d301254a-4ab8-495e-aea5-adc6e3dfc127",
   "metadata": {},
   "source": [
    "# Turtle\n",
    "Die Schildköte gibt es nicht nur als [gturtle](https://www.jython.ch/index.php?inhalt_links=navigation.inc.php&inhalt_mitte=turtle/turtledoc.html) für TigerJython oder unter [jturtle](https://github.com/shwars/jturtle) für Jupyter, sondern auch mit der Bibliothek [turtle](https://docs.python.org/3/library/turtle.html) im ganz normalen Python."
   ]
  },
  {
   "cell_type": "code",
   "execution_count": null,
   "id": "2ce01e50-e0f8-4962-a81c-5aaba3620445",
   "metadata": {},
   "outputs": [],
   "source": [
    "import jturtle as turtle\n",
    "\n",
    "turtle.forward(100)\n",
    "turtle.right(120)\n",
    "turtle.forward(100)\n",
    "turtle.right(120)\n",
    "turtle.forward(100)\n",
    "turtle.right(120)\n",
    "\n",
    "# show each step separately as single picture\n",
    "turtle.done(True)\n",
    "\n",
    "# show only the final result\n",
    "#turtle.done() "
   ]
  }
 ],
 "metadata": {
  "kernelspec": {
   "display_name": "Python 3 (ipykernel)",
   "language": "python",
   "name": "python3"
  },
  "language_info": {
   "codemirror_mode": {
    "name": "ipython",
    "version": 3
   },
   "file_extension": ".py",
   "mimetype": "text/x-python",
   "name": "python",
   "nbconvert_exporter": "python",
   "pygments_lexer": "ipython3",
   "version": "3.11.10"
  }
 },
 "nbformat": 4,
 "nbformat_minor": 5
}
