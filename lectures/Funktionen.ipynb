{
 "cells": [
  {
   "cell_type": "markdown",
   "id": "36f91295",
   "metadata": {},
   "source": [
    "# Wie Sie dieses Notebook nutzen:\n",
    "- Führen Sie diesen Code Zelle für Zelle aus.\n",
    "- Um die Variableninhalte zu beobachten, nutzen Sie in Jupyter-Classic den \"Variable Inspektor\". Falls Sie dieses Notebook in Jupyter-Lab verwenden, nutzen Sie hierfür den eingebauten Debugger.\n",
    "- Wenn Sie \"Code Tutor\" zur Visualisierung des Ablaufes einzelner Zellen nutzen möchten, führen Sie einmalig die nachfolgende Zelle aus. Anschliessend schreiben Sie %%tutor in die erste Zeile jeder Zelle, die Sie visualisieren möchten.\n",
    "- Die Dokumentation von range(), len() und allen anderen eingebauten Funktionen finden Sie hier: https://docs.python.org/3/library/functions.html\n"
   ]
  },
  {
   "cell_type": "code",
   "execution_count": null,
   "id": "eb41baae",
   "metadata": {},
   "outputs": [],
   "source": [
    "# Für Code Tutor Visualisierungen\n",
    "from metakernel import register_ipython_magics\n",
    "register_ipython_magics()"
   ]
  },
  {
   "cell_type": "markdown",
   "id": "a6dab7ad",
   "metadata": {},
   "source": [
    "## Funktionen\n",
    "\n",
    "- Funktionen definiert man mit __def__ \n",
    "- Die korrekte Einrückung des Anweisungsblocks ist zu beachten.\n",
    "- Funktionen haben optional __Parameter__ und einen __Rückgabewert__. Letzterer wird mit \"return\" zurückgegeben. \n",
    "- Funktionen haben eine __Dokumentation__, die im Docstring hinterlegt ist.\n",
    "- Funktionen haben __Testfälle__, die automatisch ausgeführt werden können und die Funktion dokumentieren und die Verwendung demonstrieren.\n",
    "- Funktionen können Tesfälle im Docstring haben, aber auch auf viele andere Arten getestet werden, etwa mittels __assert__-Statements oder fortgeschritten mit [unittest](https://docs.python.org/3/library/unittest.html#module-unittest).\n",
    "\n",
    "### Definition\n",
    "\n",
    "```python\n",
    "def name_der_funktion(parameter1, parameter2):\n",
    "    \"\"\"\n",
    "    Hier steht in einem Satz, was diese Funktion macht. \n",
    "    \n",
    "    Tests:\n",
    "    >>> print(name_der_funktion(\"Rot\", \"Grün\"))\n",
    "    Gelb\n",
    "    \n",
    "    >>> print(name_der_funktion(\"Rot\", \"Blau\"))\n",
    "    Cyan\n",
    "    \n",
    "    Hier können weitere relevante Hinweise zur Nutzung gegeben werden.\n",
    "    \"\"\"\n",
    "    berechung 1\n",
    "    berechung 2\n",
    "    berechung ...\n",
    "    ergebnis = berechung n\n",
    "\n",
    "    return ergebnis\n",
    "\n",
    "```"
   ]
  },
  {
   "cell_type": "markdown",
   "id": "7324e858",
   "metadata": {},
   "source": [
    "### Anwendung\n",
    "\n",
    "Funktionen lassen sich sehr gut wiederverwenden, etwa in Schleifen. Dazu muss man die Funktion selbst nicht verstehen, wie sie intern funktioniert, sondern nur das Ergebnis."
   ]
  },
  {
   "cell_type": "code",
   "execution_count": null,
   "id": "824e2cb0",
   "metadata": {},
   "outputs": [],
   "source": [
    "def hash13(s):\n",
    "    \"\"\"\n",
    "    Erzeugt einen Hashwert des Stings s zwischen 0 und 13\n",
    "    \n",
    "    Tests:\n",
    "    \n",
    "    ToDo\n",
    "    \n",
    "    \"\"\"\n",
    "    summe = 0\n",
    "    i=0\n",
    "    while i < len(s): \n",
    "        j = ord(s[i])\n",
    "#        print(\"Buchstabe: {} Code: {}\".format(s[i], j))\n",
    "        summe = summe + j\n",
    "        i+=1\n",
    "    return summe % 13"
   ]
  },
  {
   "cell_type": "code",
   "execution_count": null,
   "id": "cf45378f",
   "metadata": {},
   "outputs": [],
   "source": [
    "passwoerter = [\"Hallo\", \"3re4kl4\", \"abcde\", \"rambo\"]\n",
    "\n",
    "for p in passwoerter:\n",
    "    h = hash13(p)\n",
    "    print(\"{} - {}\".format(p, h))"
   ]
  },
  {
   "cell_type": "markdown",
   "id": "70969909",
   "metadata": {},
   "source": [
    "### Gültigkeitsbereich (Scope)"
   ]
  },
  {
   "cell_type": "markdown",
   "id": "10f55c64",
   "metadata": {},
   "source": [
    "Die an die Funktions-Parameter übergebenen Werte sind nur innerhalb des aktuellen Funktionsaufrufs gültig."
   ]
  },
  {
   "cell_type": "code",
   "execution_count": null,
   "id": "cfed380a",
   "metadata": {},
   "outputs": [],
   "source": [
    "def funktions_name(parameter1, parameter2):\n",
    "    ergebnis = parameter1 * parameter2\n",
    "    return ergebnis"
   ]
  },
  {
   "cell_type": "code",
   "execution_count": null,
   "id": "21818cdf",
   "metadata": {},
   "outputs": [],
   "source": [
    "rueckgabewert = funktions_name(7,2)"
   ]
  },
  {
   "cell_type": "code",
   "execution_count": null,
   "id": "219c0465",
   "metadata": {},
   "outputs": [],
   "source": [
    "print(rueckgabewert)"
   ]
  },
  {
   "cell_type": "markdown",
   "id": "7c9f1790",
   "metadata": {},
   "source": [
    "Ausserhalb einer Funktion sind die Parameter-Variablen nicht definiert"
   ]
  },
  {
   "cell_type": "code",
   "execution_count": null,
   "id": "c38201a2",
   "metadata": {},
   "outputs": [],
   "source": [
    "print(parameter1)"
   ]
  },
  {
   "cell_type": "markdown",
   "id": "db794f64",
   "metadata": {},
   "source": [
    "### Tests\n",
    "\n",
    "Um die eingebetteten Tests laufen zu lassen, muss die Funktion \"run_docstring_examples\" aus dem Packet \"doctest\" importiert werden.\n",
    "\n",
    "```python\n",
    "from doctest import run_docstring_examples\n",
    "```\n",
    "\n",
    "Dann können durch ff. Aufruf die Tests, die im Docstring stehen, ausgeführt werden.\n",
    "\n",
    "```python\n",
    "run_docstring_examples(name_der_funktion, locals())\n",
    "```"
   ]
  },
  {
   "cell_type": "code",
   "execution_count": null,
   "id": "e9f0005c",
   "metadata": {},
   "outputs": [],
   "source": [
    "from doctest import run_docstring_examples"
   ]
  },
  {
   "cell_type": "code",
   "execution_count": null,
   "id": "eae00db2",
   "metadata": {},
   "outputs": [],
   "source": [
    "def mittelwert(zahlen):\n",
    "    \"\"\"\n",
    "    Berechnet das arithmetrische Mittel einer Liste von Zahlen.\n",
    "\n",
    "    >>> print(mittelwert([20, 30, 70]))\n",
    "    40.0\n",
    "    >>> print(mittelwert([0, 0, 0]))\n",
    "    0.0\n",
    "    \n",
    "    \"\"\"\n",
    "    ergebnis = sum(zahlen) / len(zahlen)\n",
    "    return ergebnis"
   ]
  },
  {
   "cell_type": "code",
   "execution_count": null,
   "id": "d0e4c672",
   "metadata": {},
   "outputs": [],
   "source": [
    "run_docstring_examples(mittelwert, locals())"
   ]
  },
  {
   "cell_type": "code",
   "execution_count": null,
   "id": "67833598",
   "metadata": {
    "code_folding": []
   },
   "outputs": [],
   "source": [
    "assert mittelwert([20, 30, 70]) == 40.0\n",
    "assert mittelwert([0, 0, 0]) == 0.0"
   ]
  },
  {
   "cell_type": "markdown",
   "id": "000ab78d",
   "metadata": {},
   "source": [
    "Es können auch alle Testfälle in den Docstrings aller Funktionen einer .py-Datei gleichzeitig getestet werden."
   ]
  },
  {
   "cell_type": "code",
   "execution_count": null,
   "id": "b3c7164f",
   "metadata": {},
   "outputs": [],
   "source": [
    "def average(values):\n",
    "    \"\"\"\n",
    "    Computes the arithmetic mean of a list of numbers.\n",
    "\n",
    "    >>> print(average([20, 30, 70]))\n",
    "    40.0\n",
    "    >>> print(average([0, 0, 0]))\n",
    "    0.0\n",
    "    \"\"\"\n",
    "    return sum(values) / len(values)\n",
    "\n",
    "def second_best(values):\n",
    "    \"\"\"\n",
    "    Computes the second highest value of a list of numbers.\n",
    "\n",
    "    >>> print(second_best([20, 30, 70]))\n",
    "    30\n",
    "    >>> print(second_best([0, 0, 0]))\n",
    "    0\n",
    "    \"\"\"\n",
    "    pass"
   ]
  },
  {
   "cell_type": "code",
   "execution_count": null,
   "id": "0559127e",
   "metadata": {},
   "outputs": [],
   "source": [
    "import doctest\n",
    "doctest.testmod()   # automatically validate the embedded tests of all functions"
   ]
  }
 ],
 "metadata": {
  "kernelspec": {
   "display_name": "Python 3 (ipykernel)",
   "language": "python",
   "name": "python3"
  },
  "language_info": {
   "codemirror_mode": {
    "name": "ipython",
    "version": 3
   },
   "file_extension": ".py",
   "mimetype": "text/x-python",
   "name": "python",
   "nbconvert_exporter": "python",
   "pygments_lexer": "ipython3",
   "version": "3.11.10"
  },
  "latex_envs": {
   "LaTeX_envs_menu_present": true,
   "autoclose": false,
   "autocomplete": true,
   "bibliofile": "biblio.bib",
   "cite_by": "apalike",
   "current_citInitial": 1,
   "eqLabelWithNumbers": true,
   "eqNumInitial": 1,
   "hotkeys": {
    "equation": "Ctrl-E",
    "itemize": "Ctrl-I"
   },
   "labels_anchors": false,
   "latex_user_defs": false,
   "report_style_numbering": false,
   "user_envs_cfg": false
  },
  "toc": {
   "base_numbering": 1,
   "nav_menu": {},
   "number_sections": true,
   "sideBar": true,
   "skip_h1_title": true,
   "title_cell": "Table of Contents",
   "title_sidebar": "Contents",
   "toc_cell": false,
   "toc_position": {},
   "toc_section_display": true,
   "toc_window_display": true
  },
  "varInspector": {
   "cols": {
    "lenName": 16,
    "lenType": 16,
    "lenVar": 40
   },
   "kernels_config": {
    "python": {
     "delete_cmd_postfix": "",
     "delete_cmd_prefix": "del ",
     "library": "var_list.py",
     "varRefreshCmd": "print(var_dic_list())"
    },
    "r": {
     "delete_cmd_postfix": ") ",
     "delete_cmd_prefix": "rm(",
     "library": "var_list.r",
     "varRefreshCmd": "cat(var_dic_list()) "
    }
   },
   "position": {
    "height": "438.85px",
    "left": "1070px",
    "right": "20px",
    "top": "120px",
    "width": "350px"
   },
   "types_to_exclude": [
    "module",
    "function",
    "builtin_function_or_method",
    "instance",
    "_Feature"
   ],
   "window_display": false
  }
 },
 "nbformat": 4,
 "nbformat_minor": 5
}
