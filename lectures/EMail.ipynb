{
 "cells": [
  {
   "cell_type": "markdown",
   "id": "6f11e951-b5f4-447c-95e0-8398c23b10c5",
   "metadata": {},
   "source": [
    "# EMail senden"
   ]
  },
  {
   "cell_type": "code",
   "execution_count": null,
   "id": "8daf74f6-927c-4585-abc3-9b69f8bc6896",
   "metadata": {},
   "outputs": [],
   "source": [
    "import smtplib # SMTP - Simple Mail Transport Protocoll\n",
    "import getpass # zum Eingeben von Passwörtern\n",
    "from email.mime.text import MIMEText # korrekt formatierte Text-Emails\n",
    "import time # wir nutzen time.sleep()"
   ]
  },
  {
   "cell_type": "markdown",
   "id": "6b290b42-928a-4e7d-80aa-11726194b480",
   "metadata": {},
   "source": [
    "## sender & receiver"
   ]
  },
  {
   "cell_type": "markdown",
   "id": "09b31ccf-5b21-4f91-ab09-99ae22869986",
   "metadata": {},
   "source": [
    "An wen geht die EMail?"
   ]
  },
  {
   "cell_type": "code",
   "execution_count": null,
   "id": "b58bfe85-ddbe-4eac-b5a5-d3aed0fdf235",
   "metadata": {},
   "outputs": [],
   "source": [
    "receiver_email = input(\"To:\")"
   ]
  },
  {
   "cell_type": "markdown",
   "id": "02efa511-dda7-4f29-9af3-bf292b2865b9",
   "metadata": {},
   "source": [
    "Wenn der Account, von dem die EMail versandt werden soll, [2FA](https://support.google.com/mail/answer/185833?hl=de) aktiviert hat, dann musst du vorab ein [App-Passwort](https://support.google.com/mail/answer/185833?hl=de) erstellen."
   ]
  },
  {
   "cell_type": "code",
   "execution_count": null,
   "id": "d5c17a69-6f86-4f32-a108-e6bb2cd7a796",
   "metadata": {},
   "outputs": [],
   "source": [
    "sender_email = input(\"From:\")"
   ]
  },
  {
   "cell_type": "markdown",
   "id": "89481790-8aed-485c-a4ae-f4115ad55b52",
   "metadata": {},
   "source": [
    "Wenn kein 2FA aktiviert ist, genügt ggf. dein normales Passwort. Es ist aber meist besser, vorab ein App-Passwort speziell für Anwendungen wie diese hier zu erstellen (und danach wieder zu löschen)."
   ]
  },
  {
   "cell_type": "code",
   "execution_count": null,
   "id": "fe7af2fc-26f9-462d-8787-9b69070472a3",
   "metadata": {},
   "outputs": [],
   "source": [
    "your_password = getpass.getpass(\"Password\")"
   ]
  },
  {
   "cell_type": "markdown",
   "id": "b8893a9c-f6fc-4a48-8545-e96572314114",
   "metadata": {},
   "source": [
    "## server configuration"
   ]
  },
  {
   "cell_type": "code",
   "execution_count": null,
   "id": "ce3cbb59-f5b6-4c07-ac10-0e29eba52b89",
   "metadata": {},
   "outputs": [],
   "source": [
    "smtp_server = \"smtp.gmail.com\"\n",
    "smtp_port = 587"
   ]
  },
  {
   "cell_type": "markdown",
   "id": "f1427b94-00a3-4c17-a26b-dc8d1a92bbeb",
   "metadata": {},
   "source": [
    "Das funktioniert prinzipiell auch mit jedem anderen SMPT-Server."
   ]
  },
  {
   "cell_type": "markdown",
   "id": "53ce7591-cf51-4728-932d-c13b69d1a20f",
   "metadata": {},
   "source": [
    "## create email"
   ]
  },
  {
   "cell_type": "code",
   "execution_count": null,
   "id": "9c56658b-bc10-4145-b506-e17969f84ae2",
   "metadata": {},
   "outputs": [],
   "source": [
    "msg = MIMEText(\"Hello from Python!\")\n",
    "msg[\"Subject\"] = \"Test Email\"\n",
    "msg[\"From\"] = sender_email\n",
    "msg[\"To\"] = receiver_email"
   ]
  },
  {
   "cell_type": "markdown",
   "id": "fae82183-78fd-40b1-9a60-b9e0385eafd6",
   "metadata": {},
   "source": [
    "Eine EMail ist eine einfache Textdatei."
   ]
  },
  {
   "cell_type": "code",
   "execution_count": null,
   "id": "711a5aa5-6889-40fd-b0f2-ca8efe7d1b2d",
   "metadata": {},
   "outputs": [],
   "source": [
    "print(msg)"
   ]
  },
  {
   "cell_type": "markdown",
   "id": "0a187ab2-3b99-4300-af5d-c4ddbcfdcad2",
   "metadata": {},
   "source": [
    "## send email\n",
    "Wir verbinden uns nur 1x mit dem Server und schicken dann alle EMails nacheinander ab."
   ]
  },
  {
   "cell_type": "code",
   "execution_count": null,
   "id": "f3628ed0-e615-4d91-b964-d4fbfe991a3f",
   "metadata": {},
   "outputs": [],
   "source": [
    "with smtplib.SMTP(smtp_server, smtp_port) as server:\n",
    "    server.starttls()\n",
    "    server.login(sender_email, your_password)\n",
    "\n",
    "    # zu Demonstrationszwecken verschicken wir die Test-EMail einfach 2x\n",
    "    for i in range(2):\n",
    "        print(\"Sende EMail #{}\".format(i))\n",
    "        server.send_message(msg)\n",
    "        time.sleep(1)"
   ]
  },
  {
   "cell_type": "markdown",
   "id": "b43da943-8a6d-4a50-a620-80721f9d11e5",
   "metadata": {},
   "source": [
    "Schau auch im **Spam**-Ordner des Empfängers nach"
   ]
  }
 ],
 "metadata": {
  "kernelspec": {
   "display_name": "Python 3 (ipykernel)",
   "language": "python",
   "name": "python3"
  },
  "language_info": {
   "codemirror_mode": {
    "name": "ipython",
    "version": 3
   },
   "file_extension": ".py",
   "mimetype": "text/x-python",
   "name": "python",
   "nbconvert_exporter": "python",
   "pygments_lexer": "ipython3",
   "version": "3.12.11"
  }
 },
 "nbformat": 4,
 "nbformat_minor": 5
}
