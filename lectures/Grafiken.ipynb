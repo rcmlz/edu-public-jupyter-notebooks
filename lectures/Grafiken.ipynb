{
 "cells": [
  {
   "cell_type": "markdown",
   "id": "ae7aad25-668b-402b-b24c-1a3ba758e07a",
   "metadata": {},
   "source": [
    "# Grafiken\n",
    "\n",
    "Es existieren viele Bibliotheken, um Grafiken zu erstellen."
   ]
  },
  {
   "cell_type": "markdown",
   "id": "6a32632d-03f6-4691-a8e3-d943eeb66008",
   "metadata": {},
   "source": [
    "## erzeugen und exportieren\n",
    "\n",
    "Wir verwenden etwa [matplotlib](https://matplotlib.org/stable/gallery/)\n",
    " "
   ]
  },
  {
   "cell_type": "code",
   "execution_count": null,
   "id": "b4082817-aa46-4381-9ba3-8947cb8ffa5a",
   "metadata": {},
   "outputs": [],
   "source": [
    "import matplotlib.pyplot as plt\n",
    "\n",
    "fig, ax = plt.subplots()\n",
    "\n",
    "fruits = ['apple', 'blueberry', 'cherry', 'orange']\n",
    "counts = [40, 100, 30, 55]\n",
    "bar_labels = ['red', 'blue', '_red', 'orange']\n",
    "bar_colors = ['tab:red', 'tab:blue', 'tab:red', 'tab:orange']\n",
    "\n",
    "ax.bar(fruits, counts, label=bar_labels, color=bar_colors)\n",
    "\n",
    "ax.set_ylabel('fruit supply')\n",
    "ax.set_title('Fruit supply by kind and color')\n",
    "ax.legend(title='Fruit color')\n",
    "\n",
    "plt.savefig('foo.png')\n",
    "plt.savefig('foo.pdf')\n",
    "\n",
    "plt.show()\n",
    "\n",
    "plt.close()"
   ]
  },
  {
   "cell_type": "markdown",
   "id": "b477b052-f23c-4c00-86e1-dcc8b4f58c58",
   "metadata": {},
   "source": [
    "oder auch [seaborn](https://seaborn.pydata.org/)"
   ]
  },
  {
   "cell_type": "code",
   "execution_count": null,
   "id": "999bf08f-682a-4b3f-baf6-5b6ad90c3c79",
   "metadata": {
    "scrolled": true
   },
   "outputs": [],
   "source": [
    "import seaborn as sns\n",
    "\n",
    "# loading dataset\n",
    "data = sns.load_dataset(\"iris\")\n",
    "\n",
    "# draw lineplot\n",
    "sns_plot = sns.lineplot(x=\"sepal_length\", y=\"sepal_width\", data=data)\n",
    "\n",
    "# save to file\n",
    "sns_plot.figure.savefig(\"output.png\")\n",
    "\n",
    "# show also in notebook\n",
    "sns_plot"
   ]
  },
  {
   "cell_type": "markdown",
   "id": "218a0453-a60b-4587-ba4c-70f61795fbf1",
   "metadata": {},
   "source": [
    "## Interaktive Grafiken\n",
    "erzeugen wir auch mit matplotlib"
   ]
  },
  {
   "cell_type": "code",
   "execution_count": null,
   "id": "9b8545a2-2048-4847-83b6-d101936d24c3",
   "metadata": {},
   "outputs": [],
   "source": [
    "%matplotlib widget\n",
    "\n",
    "# place the regular matplotlib code below\n",
    "import matplotlib.pyplot as plt\n",
    "x = [1,2,3]\n",
    "y = [5,2,3]\n",
    "plt.plot(x,y)\n",
    "plt.show()"
   ]
  },
  {
   "cell_type": "markdown",
   "id": "317f6c0c-a687-4ac8-b87d-bb07d03bdedd",
   "metadata": {},
   "source": [
    "und zusätzlich ein paar Slidern für leichte Interaktion"
   ]
  },
  {
   "cell_type": "code",
   "execution_count": null,
   "id": "9f9d9001-3309-464a-9aab-bd9bbd4f0171",
   "metadata": {},
   "outputs": [],
   "source": [
    "%matplotlib ipympl\n",
    "from ipywidgets import *\n",
    "import numpy as np\n",
    "import matplotlib.pyplot as plt\n",
    "\n",
    "x = np.linspace(-10, 10,100)\n",
    "\n",
    "def f(x, A, B, C):\n",
    "    return A*x**2 + B*x + C\n",
    "\n",
    "fig = plt.figure()\n",
    "ax = fig.add_subplot(1, 1, 1)\n",
    "line, = ax.plot(x, f(x, A=1, B=1, C=1))\n",
    "\n",
    "def update(A = 1, B = 0, C = 0):\n",
    "    line.set_ydata(f(x,A,B,C))\n",
    "    fig.canvas.draw_idle()\n",
    "    \n",
    "interact(update, A = (-4,4,0.1), B = (-4,4,0.1), C = (-4,4,0.1));"
   ]
  },
  {
   "cell_type": "markdown",
   "id": "0bcf0182-730e-44b0-91b7-98eb45ac0455",
   "metadata": {},
   "source": [
    "oder auch mit `bokeh`"
   ]
  },
  {
   "cell_type": "code",
   "execution_count": null,
   "id": "e944374c-da2f-4467-8d99-dcaab3775756",
   "metadata": {},
   "outputs": [],
   "source": [
    "from bokeh.io import output_notebook, show\n",
    "from bokeh.plotting import figure\n",
    "output_notebook()\n",
    "\n",
    "# create a new plot with default tools, using figure\n",
    "p = figure(width=400, height=400)\n",
    "\n",
    "# add a circle renderer with x and y coordinates, size, color, and alpha\n",
    "p.scatter([1, 2, 3, 4, 5], [6, 7, 2, 4, 5], size=15, line_color=\"navy\", fill_color=\"orange\", fill_alpha=0.5)\n",
    "\n",
    "show(p) # show the results"
   ]
  },
  {
   "cell_type": "markdown",
   "id": "980d9d75-2428-4e44-9795-a495bec677a0",
   "metadata": {},
   "source": [
    "oder mit `plotly`"
   ]
  },
  {
   "cell_type": "code",
   "execution_count": null,
   "id": "888c772a-9004-4e0e-9317-abbf47cfd953",
   "metadata": {},
   "outputs": [],
   "source": [
    "# Import the necessaries libraries\n",
    "import plotly.offline as pyo\n",
    "import plotly.graph_objs as go\n",
    "\n",
    "# Create traces\n",
    "trace0 = go.Scatter(\n",
    "    x=[1, 2, 3, 4],\n",
    "    y=[10, 15, 13, 17]\n",
    ")\n",
    "\n",
    "trace1 = go.Scatter(\n",
    "    x=[1, 2, 3, 4],\n",
    "    y=[16, 5, 11, 9]\n",
    ")\n",
    "\n",
    "# Fill out data with our traces\n",
    "data = [trace0, trace1]\n",
    "\n",
    "# Plot it and save as basic-line.html\n",
    "pyo.plot(data, filename = 'basic-line.html')"
   ]
  },
  {
   "cell_type": "markdown",
   "id": "e2683ad7-f21e-44bd-8ad6-61635f81f572",
   "metadata": {},
   "source": [
    "oder in Thonny Editor:\n",
    "\n",
    "```python\n",
    "# x and y given as array_like objects\n",
    "import plotly.express as px\n",
    "fig = px.scatter(x=[0, 1, 2, 3, 4], y=[0, 1, 4, 9, 16])\n",
    "fig.show()\n",
    "```"
   ]
  }
 ],
 "metadata": {
  "kernelspec": {
   "display_name": "Python 3 (ipykernel)",
   "language": "python",
   "name": "python3"
  },
  "language_info": {
   "codemirror_mode": {
    "name": "ipython",
    "version": 3
   },
   "file_extension": ".py",
   "mimetype": "text/x-python",
   "name": "python",
   "nbconvert_exporter": "python",
   "pygments_lexer": "ipython3",
   "version": "3.11.10"
  }
 },
 "nbformat": 4,
 "nbformat_minor": 5
}
