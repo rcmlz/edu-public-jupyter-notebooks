{
 "cells": [
  {
   "cell_type": "markdown",
   "id": "8b1e5ac8-88eb-4a9e-9b49-f66b188de121",
   "metadata": {},
   "source": [
    "![logo](https://upload.wikimedia.org/wikipedia/commons/c/c3/Python-logo-notext.svg)\n",
    "\n",
    "# Python Cheat Sheet\n",
    "\n",
    "[Python](https://de.wikipedia.org/wiki/Python_(Programmiersprache)) ist eine extrem [populäre Programmiersprache](https://www.tiobe.com/tiobe-index/) und wird derzeit sehr häufig im Bildungssektor verwendet."
   ]
  },
  {
   "cell_type": "markdown",
   "id": "205d3a35-f2d2-4a5e-9242-c54a83f555bc",
   "metadata": {},
   "source": [
    "## Syntax\n",
    "\n",
    "### Einrückungen\n",
    "Der Code wird über Einrückungen strukturiert."
   ]
  },
  {
   "cell_type": "code",
   "execution_count": null,
   "id": "24283538-6c11-42a3-afe6-34d52f579096",
   "metadata": {},
   "outputs": [],
   "source": [
    "print(\"Hallo\")\n",
    "print(\"Welt\")\n",
    "print(\"!\")"
   ]
  },
  {
   "cell_type": "markdown",
   "id": "175bc2f5-1e4a-4b62-a3c3-ec67aaa8a58f",
   "metadata": {},
   "source": [
    "Alles was zu einem Block gehört, muss untereinander stehen."
   ]
  },
  {
   "cell_type": "code",
   "execution_count": null,
   "id": "1f326dbe-24af-4865-b5d4-696bc35e558a",
   "metadata": {},
   "outputs": [],
   "source": [
    "print(\"Hallo\")\n",
    "  print(\"Welt\")\n",
    "print(\"!\")"
   ]
  },
  {
   "cell_type": "markdown",
   "id": "1528801f-6c2e-46bf-ab90-77484e0a6a5f",
   "metadata": {},
   "source": [
    "### Kommentare\n",
    "Einzeilige Kommentare werden mit `#` eingeleitet"
   ]
  },
  {
   "cell_type": "code",
   "execution_count": null,
   "id": "f0a879a1-b489-47c6-9fb0-9a9c0b8122ee",
   "metadata": {},
   "outputs": [],
   "source": [
    "# ein einzeiliger Kommentar\n",
    "print(\"Hallo\")"
   ]
  },
  {
   "cell_type": "markdown",
   "id": "840a037b-c256-4386-96b3-8961cac2dbf4",
   "metadata": {},
   "source": [
    "mehrzeilige Kommentare mit `'''` oder `\"\"\"` umschlossen."
   ]
  },
  {
   "cell_type": "code",
   "execution_count": null,
   "id": "475e1356-746a-4768-8378-676d4c8dbb33",
   "metadata": {},
   "outputs": [],
   "source": [
    "'''\n",
    "Ein\n",
    "mehrzeiliger\n",
    "Kommentar\n",
    "'''\n",
    "print(\"Welt\")"
   ]
  },
  {
   "cell_type": "markdown",
   "id": "b0eb3882-dfd9-458f-a300-7965bfef2703",
   "metadata": {},
   "source": [
    "### Gross/Kleinschreibung\n",
    "Gross-/Kleinschreibung muss beachtet werden"
   ]
  },
  {
   "cell_type": "code",
   "execution_count": null,
   "id": "378fb5fb-26e0-49c9-a786-1e8a4d8a0389",
   "metadata": {},
   "outputs": [],
   "source": [
    "Print(\"Hallo\")"
   ]
  },
  {
   "cell_type": "markdown",
   "id": "115268b1-8a3f-4891-b847-a36018fb961c",
   "metadata": {},
   "source": [
    "## Rechenoperationen\n",
    "- Addition: `+`\n",
    "- Subtraktion: `-`\n",
    "- Multiplikation: `*`\n",
    "- Division: `/`\n",
    "- Potenz: `**`\n",
    "- Ganzahldivision: `//`\n",
    "- Rest der Ganzzahldivision: `%` (Modulo: wird bspw. in der Kryptologie benötigt)"
   ]
  },
  {
   "cell_type": "code",
   "execution_count": null,
   "id": "b9e9cff9-ec54-47ae-8df2-d29106c29b6a",
   "metadata": {},
   "outputs": [],
   "source": [
    "print(1 + 1)"
   ]
  },
  {
   "cell_type": "code",
   "execution_count": null,
   "id": "d5c0e77d-7ba5-461a-a62e-a993eeaf363a",
   "metadata": {},
   "outputs": [],
   "source": [
    "print(1 - 2)"
   ]
  },
  {
   "cell_type": "code",
   "execution_count": null,
   "id": "a1f0fd26-0f06-4387-88c5-18b26b17760c",
   "metadata": {},
   "outputs": [],
   "source": [
    "print(3 * 4)"
   ]
  },
  {
   "cell_type": "code",
   "execution_count": null,
   "id": "93fc2aa2-a650-4a44-93f7-551a774a02cc",
   "metadata": {},
   "outputs": [],
   "source": [
    "print(6 / 4)"
   ]
  },
  {
   "cell_type": "code",
   "execution_count": null,
   "id": "a9b31ecc-544a-42b3-98e6-2f793d19cb76",
   "metadata": {},
   "outputs": [],
   "source": [
    "print(3 ** 2)"
   ]
  },
  {
   "cell_type": "code",
   "execution_count": null,
   "id": "f57d4aec-f871-432f-8127-a37487b234ab",
   "metadata": {},
   "outputs": [],
   "source": [
    "print(3 ** 0.5) # Quadratwurzel von 3"
   ]
  },
  {
   "cell_type": "code",
   "execution_count": null,
   "id": "6a05a748-82d6-4b88-a731-f7d20f9a5b86",
   "metadata": {},
   "outputs": [],
   "source": [
    "print(6 // 4)"
   ]
  },
  {
   "cell_type": "code",
   "execution_count": null,
   "id": "397e9f60-dc4b-4b15-bb41-0293ab8797b1",
   "metadata": {},
   "outputs": [],
   "source": [
    "print(13 % 5)"
   ]
  },
  {
   "cell_type": "markdown",
   "id": "2d0fdc87-c376-437f-a264-700cb61c7521",
   "metadata": {},
   "source": [
    "## Bibliotheken\n",
    "Python besitzt nur wenige [Standardfunktionen](https://docs.python.org/3/library/functions.html). Deshalb importieren wir häufig zusätzliche Bibliotheken, wie etwa [math](https://docs.python.org/3/library/math.html)."
   ]
  },
  {
   "cell_type": "markdown",
   "id": "c85552ce-2ea9-4d0f-b1d3-d03b0a3e65db",
   "metadata": {},
   "source": [
    "Die einfache Einsteigervariante:"
   ]
  },
  {
   "cell_type": "code",
   "execution_count": null,
   "id": "2f7f829a-d10e-4c3c-b327-98349fea8b06",
   "metadata": {},
   "outputs": [],
   "source": [
    "# alle Funktionen der math-Bibliothek importieren\n",
    "from math import *\n",
    "\n",
    "print(\"Wurzel von 3 ist\", sqrt(3))\n",
    "print(\"Pi =\", pi)\n",
    "print(\"Fakultät von 10 ist\", factorial(10))"
   ]
  },
  {
   "cell_type": "markdown",
   "id": "1761730a-7e31-469f-97e9-c0be40db5bfb",
   "metadata": {},
   "source": [
    "Wenn man weiss, was man benötigt:"
   ]
  },
  {
   "cell_type": "code",
   "execution_count": null,
   "id": "2139fcc4-e325-4fe0-9f41-fae1f92cd8c4",
   "metadata": {},
   "outputs": [],
   "source": [
    "# nur ganz bestimmte Funktionen importieren\n",
    "from math import sqrt, pi, factorial\n",
    "\n",
    "print(\"Wurzel von 3 ist\", sqrt(3))\n",
    "print(\"Pi =\", pi)\n",
    "print(\"Fakultät von 10 ist\", factorial(10))"
   ]
  },
  {
   "cell_type": "markdown",
   "id": "2aed4068-0374-43ae-ad01-7e81ef89edd4",
   "metadata": {},
   "source": [
    "So machen es die Profis, damit es nicht zu Kollisionen bei den Namen kommt:"
   ]
  },
  {
   "cell_type": "code",
   "execution_count": null,
   "id": "f36f3613-0972-42c3-b80b-a235eda2157c",
   "metadata": {},
   "outputs": [],
   "source": [
    "# gesamte math-Bibliothek importieren\n",
    "import math\n",
    "\n",
    "print(\"Wurzel von 3 ist\", math.sqrt(3))\n",
    "print(\"Pi =\", math.pi)\n",
    "print(\"Fakultät von 10 ist\", math.factorial(10))"
   ]
  },
  {
   "cell_type": "markdown",
   "id": "c19c46e0-418c-406f-8d95-63c009d25123",
   "metadata": {},
   "source": [
    "oder auch so, falls der Name der Bibliothek zu lang erscheint."
   ]
  },
  {
   "cell_type": "code",
   "execution_count": null,
   "id": "1c1e2c50",
   "metadata": {},
   "outputs": [],
   "source": [
    "# gesamte math-Bibliothek importieren und dabei umbenennen\n",
    "import math as m\n",
    "\n",
    "print(\"Wurzel von 3 ist\", m.sqrt(3))\n",
    "print(\"Pi =\", m.pi)\n",
    "print(\"Fakultät von 10 ist\", m.factorial(10))"
   ]
  },
  {
   "cell_type": "markdown",
   "id": "30c4c2db-07ec-4111-b64c-5246c24141ab",
   "metadata": {},
   "source": [
    "## Datentypen und Variablen\n",
    "\n",
    "Variablen sind typenlos und verweisen auf Werte. Jeder Wert hat einen bestimmten Typ."
   ]
  },
  {
   "cell_type": "markdown",
   "id": "42a77762-8ee0-43bd-81bb-929a2f854b39",
   "metadata": {},
   "source": [
    "### Zeichenkette\n",
    "\n",
    "Zeichenkette/Strings (`str`) können mit `\"` oder `'` erstellt werden.\n"
   ]
  },
  {
   "cell_type": "code",
   "execution_count": null,
   "id": "65079f00-751c-46ca-a439-d3df0de3bc66",
   "metadata": {},
   "outputs": [],
   "source": [
    "a = \"Hallo\"\n",
    "b = 'Welt'\n",
    "\n",
    "print(a, b)"
   ]
  },
  {
   "cell_type": "code",
   "execution_count": null,
   "id": "7767a7a7-f7dc-430b-9f36-163bb155387f",
   "metadata": {},
   "outputs": [],
   "source": [
    "print(type(a), type(b))"
   ]
  },
  {
   "cell_type": "markdown",
   "id": "250d0571-ab73-4bb1-beb8-949fa835ba9b",
   "metadata": {},
   "source": [
    "### Wahrheitswert\n",
    "\n",
    "`bool`"
   ]
  },
  {
   "cell_type": "code",
   "execution_count": null,
   "id": "cc8e661e-9252-4acf-ab58-1defb6268d7c",
   "metadata": {},
   "outputs": [],
   "source": [
    "a = True\n",
    "b = False\n",
    "\n",
    "print(a, b)"
   ]
  },
  {
   "cell_type": "code",
   "execution_count": null,
   "id": "87aec9c9-f259-4117-88ea-fda7f274e475",
   "metadata": {},
   "outputs": [],
   "source": [
    "print(type(a), type(b))"
   ]
  },
  {
   "cell_type": "markdown",
   "id": "90a67d3e-13d6-4579-95c6-e5d956dfaafd",
   "metadata": {},
   "source": [
    "### Ganzzahl\n",
    "\n",
    "`int`\n"
   ]
  },
  {
   "cell_type": "code",
   "execution_count": null,
   "id": "80e49d47",
   "metadata": {},
   "outputs": [],
   "source": [
    "a = 234\n",
    "b = 456\n",
    "\n",
    "print(a, b)"
   ]
  },
  {
   "cell_type": "code",
   "execution_count": null,
   "id": "9e4e9184-c016-4109-9706-1f7e0124c4d8",
   "metadata": {},
   "outputs": [],
   "source": [
    "print(type(a), type(b))"
   ]
  },
  {
   "cell_type": "markdown",
   "id": "c3018714-6511-4f7e-a941-acc3257c7d1e",
   "metadata": {},
   "source": [
    "### Fliesskommazahl\n",
    "\n",
    "`float`\n"
   ]
  },
  {
   "cell_type": "code",
   "execution_count": null,
   "id": "e15be030",
   "metadata": {},
   "outputs": [],
   "source": [
    "a = 42.1234\n",
    "b = 6.023e+23\n",
    "c = 13 / 3\n",
    "\n",
    "print(a, b, c)"
   ]
  },
  {
   "cell_type": "code",
   "execution_count": null,
   "id": "0a10c3fe-44f4-4ef4-8f5d-6b62b28734c0",
   "metadata": {},
   "outputs": [],
   "source": [
    "print(type(a), type(b), type(c))"
   ]
  },
  {
   "cell_type": "markdown",
   "id": "a77673a0-5e24-424b-b6d6-d68298dd2273",
   "metadata": {},
   "source": [
    "### Komplexe Zahl\n",
    "\n",
    "`complex`"
   ]
  },
  {
   "cell_type": "code",
   "execution_count": null,
   "id": "bed61215",
   "metadata": {},
   "outputs": [],
   "source": [
    "a = complex(2, 3)\n",
    "b = complex(0, 1)\n",
    "\n",
    "print(a, b)"
   ]
  },
  {
   "cell_type": "code",
   "execution_count": null,
   "id": "392e0ec3-9631-417a-88bf-d82ec8c6f7f8",
   "metadata": {},
   "outputs": [],
   "source": [
    "print(type(a), type(b))"
   ]
  },
  {
   "cell_type": "markdown",
   "id": "1e8ea5a5-d145-4dd2-9872-0dc37e1ad6a5",
   "metadata": {},
   "source": [
    "Mit komplexen Zahlen kann man u.a. die Wurzel aus negativen Zahlen berechnen."
   ]
  },
  {
   "cell_type": "code",
   "execution_count": null,
   "id": "68d6d65d-4c0c-474b-a99c-f53fa3c008f3",
   "metadata": {},
   "outputs": [],
   "source": [
    "import cmath\n",
    "c = cmath.sqrt(-1)\n",
    "print(c == b)\n",
    "print(b ** 2)"
   ]
  },
  {
   "cell_type": "markdown",
   "id": "3e29e55e-f959-47ce-81b8-5fcef3a95b8d",
   "metadata": {},
   "source": [
    "### Liste und Tuple\n",
    "Listen (`[]`) sind veränderlich und es können neue Elemente hinzugefügt oder entfernt werden."
   ]
  },
  {
   "cell_type": "code",
   "execution_count": null,
   "id": "5a0b0e04",
   "metadata": {},
   "outputs": [],
   "source": [
    "a = [1, 2, 3]\n",
    "b = (5, 6, 7, 8, 9)\n",
    "\n",
    "print(a, b)"
   ]
  },
  {
   "cell_type": "code",
   "execution_count": null,
   "id": "a8208db6-6d00-4f20-a14e-40c0b8a5903e",
   "metadata": {},
   "outputs": [],
   "source": [
    "print(type(a), type(b))"
   ]
  },
  {
   "cell_type": "markdown",
   "id": "89f5e0d5-c0ee-433d-a17a-c83a14c3e628",
   "metadata": {},
   "source": [
    "Tuple (`()`) sind unveränderlich (statisch)."
   ]
  },
  {
   "cell_type": "code",
   "execution_count": null,
   "id": "c4cc7707-4368-453c-80f7-88a10b5b961e",
   "metadata": {},
   "outputs": [],
   "source": [
    "a.append(\"Hallo\")\n",
    "print(a)"
   ]
  },
  {
   "cell_type": "code",
   "execution_count": null,
   "id": "a73e92ff-5d69-4c72-8c73-aef139baec7a",
   "metadata": {},
   "outputs": [],
   "source": [
    "b.append(\"Hallo\")\n",
    "print(b)"
   ]
  },
  {
   "cell_type": "markdown",
   "id": "3374f8eb-b90d-4df9-ae92-c78888a9e6a0",
   "metadata": {},
   "source": [
    "Tuple können so erweitert werden:"
   ]
  },
  {
   "cell_type": "code",
   "execution_count": null,
   "id": "ea73be46-74d7-4bef-af3a-6e8ebfc5f2f6",
   "metadata": {},
   "outputs": [],
   "source": [
    "b = b + (\"Hallo\",)\n",
    "print(b)"
   ]
  },
  {
   "cell_type": "markdown",
   "id": "a960aacc-1393-4d8c-a635-17211f0c7916",
   "metadata": {},
   "source": [
    "### Dictionary\n",
    "\n",
    "Wörterbücher (`{}`) enthalten Key-Value-Paare.\n"
   ]
  },
  {
   "cell_type": "code",
   "execution_count": null,
   "id": "8d35e814-5da6-4bad-8f3c-015ca51ff91f",
   "metadata": {},
   "outputs": [],
   "source": [
    "a = {\n",
    "     3074: \"Muri\", \n",
    "     6300: \"Zug\", \n",
    "     5000: \"Aarau\"\n",
    "}\n",
    "\n",
    "print(a)"
   ]
  },
  {
   "cell_type": "code",
   "execution_count": null,
   "id": "72d5b32b-0042-404c-aca5-7cfad79ec5ff",
   "metadata": {},
   "outputs": [],
   "source": [
    "print(type(a))"
   ]
  },
  {
   "cell_type": "markdown",
   "id": "8d2e981a-77ac-4126-a130-08463e2cb50f",
   "metadata": {},
   "source": [
    "Dictionaries können verändert werden."
   ]
  },
  {
   "cell_type": "code",
   "execution_count": null,
   "id": "0440a94a-3dc8-4dec-b68c-27cc8b35ea51",
   "metadata": {},
   "outputs": [],
   "source": [
    "a[8000] = \"Zürich\"\n",
    "print(a)"
   ]
  },
  {
   "cell_type": "markdown",
   "id": "310a0f59-06fb-4cbd-94c6-618597bcb91c",
   "metadata": {},
   "source": [
    "und man kann einzelne Werte ausgeben"
   ]
  },
  {
   "cell_type": "code",
   "execution_count": null,
   "id": "f16f317f-1897-492a-a861-2afe129f2a29",
   "metadata": {},
   "outputs": [],
   "source": [
    "print(a[8000])"
   ]
  },
  {
   "cell_type": "markdown",
   "id": "7f16fddf-60de-455e-8fc1-ecfca8cceb7e",
   "metadata": {},
   "source": [
    "## Bedingungen\n",
    "\n",
    "|Operator|Erklärung|Beispiel|Wahrheitswert Beispiel\n",
    "|--|--|--|--\n",
    "|==|Prüfung auf Gleichheit|42 == 43|False\n",
    "|!=|Prüfung auf Ungleichheit|42 != 43|True\n",
    "|<|Prüfung auf \"kleiner\"|42 < 43|True\n",
    "|<=|Prüfung auf \"kleiner gleich\"|42 <= 43|True\n",
    "|>|Prüfung auf \"grösser\"|42 > 43|False\n",
    "|>=|Prüfung auf \"grösser gleich\"|42 >= 43|False\n"
   ]
  },
  {
   "cell_type": "code",
   "execution_count": null,
   "id": "ce1168a0-dd49-447f-8700-d9b9d8e7d7d3",
   "metadata": {},
   "outputs": [],
   "source": [
    "a = 42\n",
    "b = 43"
   ]
  },
  {
   "cell_type": "code",
   "execution_count": null,
   "id": "da08cb5f-ed87-4da9-952a-a1d26ec787a5",
   "metadata": {},
   "outputs": [],
   "source": [
    "print(a == b)"
   ]
  },
  {
   "cell_type": "code",
   "execution_count": null,
   "id": "51b607eb",
   "metadata": {},
   "outputs": [],
   "source": [
    "print(a != b)"
   ]
  },
  {
   "cell_type": "code",
   "execution_count": null,
   "id": "76549950",
   "metadata": {},
   "outputs": [],
   "source": [
    "print(a < b)"
   ]
  },
  {
   "cell_type": "code",
   "execution_count": null,
   "id": "39f553e7",
   "metadata": {},
   "outputs": [],
   "source": [
    "print(a <= b)"
   ]
  },
  {
   "cell_type": "code",
   "execution_count": null,
   "id": "f24d48be",
   "metadata": {},
   "outputs": [],
   "source": [
    "print(a > b)"
   ]
  },
  {
   "cell_type": "code",
   "execution_count": null,
   "id": "5928b934",
   "metadata": {},
   "outputs": [],
   "source": [
    "print(a >= b)"
   ]
  },
  {
   "cell_type": "markdown",
   "id": "516b3661-0622-411d-91e4-c53fbf13ad22",
   "metadata": {},
   "source": [
    "## Bedingungen verknüpfen\n",
    "- Der `and`-Operator gibt nur dann den Wert `True` zurück, wenn alle verglichenen Werte `True` sind. Anderernfalls wird `False` zurückgegeben.\n",
    "- Der `or`-Operator gibt `True` zurück, wenn mindestens ein verglichener Wert `True` ist. Anderernfalls wird `False` zurückgegeben.\n",
    "- Der `not`-Operator wechselt den Wert `True` in `False` und den Wert `False` in `True`.\n"
   ]
  },
  {
   "cell_type": "code",
   "execution_count": null,
   "id": "d2f7d73f-c85f-46df-b4ab-93d32de26ff8",
   "metadata": {},
   "outputs": [],
   "source": [
    "a = True\n",
    "b = False\n",
    "\n",
    "c = a and b\n",
    "d = a or b\n",
    "e = not a or b\n",
    "\n",
    "print(a, b, c, d, e)"
   ]
  },
  {
   "cell_type": "markdown",
   "id": "45c65ba1-c8ca-41ec-b824-0a31a24f0890",
   "metadata": {},
   "source": [
    "## Schleifen\n",
    "\n",
    "Eine Schleife kann mit `break` jederzeit abgebrochen werden. Mit `continue` wird sofort mit dem nächsten Element fortgefahren.\n"
   ]
  },
  {
   "cell_type": "markdown",
   "id": "bc292c44-893d-4dc6-bd48-bbd5976c08b9",
   "metadata": {},
   "source": [
    "### for\n",
    "- For-Schleifen itterieren alle Elemente einer [Liste](https://docs.python.org/3/library/stdtypes.html#list), [Tuple](https://docs.python.org/3/library/stdtypes.html#tuple) oder [range()](https://docs.python.org/3/library/stdtypes.html#range) usw.\n",
    "- For-Schleifen weisen automatisch jedes Element der zu itterierenden Liste der Reihe nach einer Variablen zu (im Beispiel unten `i` oder `x` genannt)"
   ]
  },
  {
   "cell_type": "code",
   "execution_count": null,
   "id": "56de5e18-849d-4d5e-ab4a-45e0cbadb846",
   "metadata": {},
   "outputs": [],
   "source": [
    "alist = ['rot', 'grün', 'blau']\n",
    "for x in alist:\n",
    "    print(x)"
   ]
  },
  {
   "cell_type": "code",
   "execution_count": null,
   "id": "d74f7bd6-80a5-4e4e-84f2-5821101dbc3b",
   "metadata": {},
   "outputs": [],
   "source": [
    "ende = 4\n",
    "for i in range(ende):\n",
    "    print(i)"
   ]
  },
  {
   "cell_type": "markdown",
   "id": "5a174ad5-05da-4cdc-9d62-8ee9d23bf56e",
   "metadata": {},
   "source": [
    "### while\n",
    "- While-Schleifen sind praktisch, wenn man die Abbruchbedingung oder Anzahl der Durchläufe nicht vor Beginn des ersten Durchlaufs kennt\n",
    "- Bei While-Schleifen muss die Abbruchbedingung selbst überwacht werden - indem z.B. eine Zählvariable hochgezählt wird. \n",
    "- Mit while-schleifen können unendlich lange laufende Programme geschrieben werden.\n"
   ]
  },
  {
   "cell_type": "code",
   "execution_count": null,
   "id": "c75d65e6-42f6-4a7d-91ee-87bd0064e867",
   "metadata": {},
   "outputs": [],
   "source": [
    "i = 0\n",
    "ende = 4\n",
    "while i < ende:\n",
    "    print(i)\n",
    "    i = i + 1"
   ]
  },
  {
   "cell_type": "markdown",
   "id": "0e9b7c71-9122-45e3-ade4-8e39e616bd44",
   "metadata": {},
   "source": [
    "## Verzweigungen\n",
    "mit `if/elif/else`\n",
    " \n",
    "Wenn die Bedingung wahr ist, dann wird der nach dem Doppelpunkt eingerückte Codeblock ausgeführt."
   ]
  },
  {
   "cell_type": "code",
   "execution_count": null,
   "id": "50bcbd43-6906-4099-9494-8340e87b3db4",
   "metadata": {},
   "outputs": [],
   "source": [
    "a = 200\n",
    "b = 33\n",
    "\n",
    "if b > a:\n",
    "    print(\"b ist grösser als a\")\n",
    "else:\n",
    "    print(\"b ist nicht grösser als a\")"
   ]
  },
  {
   "cell_type": "code",
   "execution_count": null,
   "id": "5d1fcc0b-d4d8-49b0-a3b6-748f49131345",
   "metadata": {},
   "outputs": [],
   "source": [
    "a = 10\n",
    "if 0 < a < 100:\n",
    "    print(a, \"liegt zwischen 0 und 100\")\n",
    "else:\n",
    "    print(a, \"liegt nicht zwischen 0 und 100\")"
   ]
  },
  {
   "cell_type": "code",
   "execution_count": null,
   "id": "2d2df702-92dc-41cf-ba4e-436d8a0bca61",
   "metadata": {},
   "outputs": [],
   "source": [
    "x = 10\n",
    "y = 20\n",
    "if x > y:\n",
    "    print(\"x is bigger than y\")\n",
    "elif x < y:\n",
    "    print(\"y is smaller than y\")\n",
    "elif x == y:\n",
    "    print(\"y is equal than y\")\n",
    "else:\n",
    "    print(\"ERROR: should have never reached this stage ....\")"
   ]
  },
  {
   "cell_type": "markdown",
   "id": "1ffebe9e-e483-4adf-a7d2-8a56251964b2",
   "metadata": {},
   "source": [
    "## Funktionen"
   ]
  },
  {
   "cell_type": "markdown",
   "id": "81516853-d148-42c4-a106-780eadb8fd05",
   "metadata": {},
   "source": [
    "### definieren\n",
    "Funktionen definiert man mit `def`, danach folgt der Name der Funktion, Klammern und ein Doppelpunkt. Der Funktionskörper ist eingerückt. Die Klammern sind notwendig, auch wenn keine Parameter vorhanden sind. "
   ]
  },
  {
   "cell_type": "code",
   "execution_count": null,
   "id": "7718c6fd-b70a-4668-96af-f2f785f90903",
   "metadata": {},
   "outputs": [],
   "source": [
    "def eine_funktion():\n",
    "    print(\"Hallo\")\n",
    "    print(\"Welt\")"
   ]
  },
  {
   "cell_type": "markdown",
   "id": "7b4ef7dd-6700-4132-b7f3-2961458ba5bf",
   "metadata": {},
   "source": [
    "Funktionen werden erst ausgeführt, wenn sie aufgerufen werden - genau wie bspw. die Standarfunktion `print()`"
   ]
  },
  {
   "cell_type": "code",
   "execution_count": null,
   "id": "e6f4fb8a-3cb5-4e15-86c5-d01a64b5de92",
   "metadata": {},
   "outputs": [],
   "source": [
    "eine_funktion()"
   ]
  },
  {
   "cell_type": "markdown",
   "id": "2f38c49e-e3eb-4875-b824-92582c26295f",
   "metadata": {},
   "source": [
    "Ein leerer Funktionskörper wird mit `pass` markiert."
   ]
  },
  {
   "cell_type": "code",
   "execution_count": null,
   "id": "32eda6bd-885d-48d7-b210-342a443b36c2",
   "metadata": {},
   "outputs": [],
   "source": [
    "def eine_andere_funktion():\n",
    "    pass"
   ]
  },
  {
   "cell_type": "code",
   "execution_count": null,
   "id": "5ff7a715-17a1-419a-963b-275b36a9f046",
   "metadata": {},
   "outputs": [],
   "source": [
    "eine_andere_funktion()"
   ]
  },
  {
   "cell_type": "markdown",
   "id": "78133bc5-800f-4744-98b6-58a5cd0e219f",
   "metadata": {},
   "source": [
    "### parametrisieren\n",
    "\n",
    "Funktionen können beliebig viele Parameter haben.\n"
   ]
  },
  {
   "cell_type": "code",
   "execution_count": null,
   "id": "3000e51c-2280-4c3c-b33e-26ffee603422",
   "metadata": {},
   "outputs": [],
   "source": [
    "def eine_funktion(parameter1, parameter2):\n",
    "    print(\"Habe folgende Parameter erhalten:\")\n",
    "    print(\"parameter1\", parameter1)\n",
    "    print(\"parameter2\", parameter2)"
   ]
  },
  {
   "cell_type": "code",
   "execution_count": null,
   "id": "29ad9c2f-72a6-4d6e-bb28-672e821f4cf6",
   "metadata": {},
   "outputs": [],
   "source": [
    "eine_funktion(\"Hallo\", \"Welt\")"
   ]
  },
  {
   "cell_type": "markdown",
   "id": "6269f91a-2c4a-42d3-9e8c-52201085e7cd",
   "metadata": {},
   "source": [
    "### Rückgabewerte\n",
    "\n",
    "Idealerweise gibt eine Funktion das Ergebnis seiner Arbeit zurück. Dies geschieht mit dem Schlüsselwort `return`."
   ]
  },
  {
   "cell_type": "code",
   "execution_count": null,
   "id": "31ba11ca-1943-442e-a357-c11a6f201793",
   "metadata": {},
   "outputs": [],
   "source": [
    "def addierer(zahl1, zahl2):\n",
    "    ergebnis = zahl1 + zahl2\n",
    "    return ergebnis"
   ]
  },
  {
   "cell_type": "code",
   "execution_count": null,
   "id": "c76c4720-a7c5-469f-a770-bc50035692a1",
   "metadata": {},
   "outputs": [],
   "source": [
    "s = addierer(10, 23.5)\n",
    "print(s)"
   ]
  },
  {
   "cell_type": "markdown",
   "id": "c9e2fd59-8f75-4bfb-aca0-d1ae3a442019",
   "metadata": {},
   "source": [
    "### testen\n",
    "Funktionen kann man bspw. mit `assert` testen."
   ]
  },
  {
   "cell_type": "code",
   "execution_count": null,
   "id": "6426f16d-c65c-4a11-a5af-0ac5f4b2ffc6",
   "metadata": {},
   "outputs": [],
   "source": [
    "assert addierer(1, 1) == 2, \"Berechne 1 + 1\"\n",
    "assert addierer(0.3, 0.7) == 1, \"Berechne 0.3 + 0.7\"\n",
    "assert addierer(-100, 100) == 0, \"Berechne -100 + 100\""
   ]
  },
  {
   "cell_type": "markdown",
   "id": "84c37b50-76dc-460e-a2a0-2e68790a5949",
   "metadata": {},
   "source": [
    "Falls der Test nicht bestanden wird, beendet Python die Ausführung des Programmes."
   ]
  },
  {
   "cell_type": "code",
   "execution_count": null,
   "id": "6e7e92c4-0a3a-4221-a27f-14f5e155fdbe",
   "metadata": {},
   "outputs": [],
   "source": [
    "assert addierer(100, 100) == 199, \"Berechne 100 + 100\""
   ]
  },
  {
   "cell_type": "markdown",
   "id": "54ef7f69-7689-4e05-ba1e-5f454e352f5c",
   "metadata": {},
   "source": [
    "### dokumentieren\n",
    "Funktionen werden mit einem sogenannten `docstring` dokumentiert. Dieser wird als mehrzeiliger Kommentar direkt nach dem Funktionsnamen erfasst."
   ]
  },
  {
   "cell_type": "code",
   "execution_count": null,
   "id": "8f04b302-37c9-41bb-987c-847cab74bbd3",
   "metadata": {},
   "outputs": [],
   "source": [
    "def addierer(zahl1, zahl2):\n",
    "    \"\"\"Addiert zwei Zahlen\n",
    "\n",
    "    Diese sehr schwierige Operation muss in eine\n",
    "    eigenen Funktion ausgelagert werden.\n",
    "    \"\"\"\n",
    "    ergebnis = zahl1 + zahl2\n",
    "    return ergebnis"
   ]
  },
  {
   "cell_type": "markdown",
   "id": "f58495bb-945b-4a21-847a-36c6b562189f",
   "metadata": {},
   "source": [
    "Der Docstring wird als Hilfe von den Entwicklungsumgebungen angezeigt."
   ]
  },
  {
   "cell_type": "code",
   "execution_count": null,
   "id": "57f44b0f-3479-462a-93c7-3e8bf9227d7c",
   "metadata": {},
   "outputs": [],
   "source": [
    "help(addierer)"
   ]
  },
  {
   "cell_type": "markdown",
   "id": "f05e082e-f7f1-440f-b946-093dd9d244d4",
   "metadata": {},
   "source": [
    "## CSV-Dateien\n",
    "\n",
    "Wir treffen häufig auf Komma-separierte Dateien (csv) zum Datenaustausch."
   ]
  },
  {
   "cell_type": "markdown",
   "id": "125ad3de-0e3f-4c1b-8b5c-2e150f0e5de4",
   "metadata": {},
   "source": [
    "### einlesen"
   ]
  },
  {
   "cell_type": "code",
   "execution_count": null,
   "id": "1b7fe2e7-1ab2-4e6a-9238-bf4405824800",
   "metadata": {},
   "outputs": [],
   "source": [
    "import csv\n",
    "\n",
    "with open('data.csv') as csvfile:\n",
    "    for row in csv.reader(csvfile):\n",
    "        print(row)"
   ]
  },
  {
   "cell_type": "markdown",
   "id": "4795de59-9adf-40b7-afa7-ce7387f97faf",
   "metadata": {},
   "source": [
    "### schreiben"
   ]
  },
  {
   "cell_type": "code",
   "execution_count": null,
   "id": "4281364b-118d-422e-a61d-7f079fabb0a7",
   "metadata": {},
   "outputs": [],
   "source": [
    "import csv\n",
    "\n",
    "data = [\n",
    "    ['name','alter','grösse'],\n",
    "    ['Alice',17,170],\n",
    "    ['Bob',19,182],\n",
    "    ['Eve',18,163]\n",
    "]\n",
    "\n",
    "with open('messwerte.csv', 'w') as csvfile:\n",
    "    writer = csv.writer(csvfile)\n",
    "    for row in data:\n",
    "        writer.writerow(row)"
   ]
  },
  {
   "cell_type": "markdown",
   "id": "ae7aad25-668b-402b-b24c-1a3ba758e07a",
   "metadata": {},
   "source": [
    "## Grafiken\n",
    "\n",
    "Es existieren viele Bibliotheken, um Grafiken zu erstellen. Wir verwenden [matplotlib](https://matplotlib.org/stable/gallery/)"
   ]
  },
  {
   "cell_type": "markdown",
   "id": "6a32632d-03f6-4691-a8e3-d943eeb66008",
   "metadata": {},
   "source": [
    "### erzeugen und exportieren"
   ]
  },
  {
   "cell_type": "code",
   "execution_count": null,
   "id": "b4082817-aa46-4381-9ba3-8947cb8ffa5a",
   "metadata": {},
   "outputs": [],
   "source": [
    "import matplotlib.pyplot as plt\n",
    "\n",
    "fig, ax = plt.subplots()\n",
    "\n",
    "fruits = ['apple', 'blueberry', 'cherry', 'orange']\n",
    "counts = [40, 100, 30, 55]\n",
    "bar_labels = ['red', 'blue', '_red', 'orange']\n",
    "bar_colors = ['tab:red', 'tab:blue', 'tab:red', 'tab:orange']\n",
    "\n",
    "ax.bar(fruits, counts, label=bar_labels, color=bar_colors)\n",
    "\n",
    "ax.set_ylabel('fruit supply')\n",
    "ax.set_title('Fruit supply by kind and color')\n",
    "ax.legend(title='Fruit color')\n",
    "\n",
    "plt.savefig('foo.png')\n",
    "plt.savefig('foo.pdf')\n",
    "\n",
    "plt.show()\n",
    "\n",
    "plt.close()"
   ]
  },
  {
   "cell_type": "markdown",
   "id": "992f6a6c-d46b-4c7f-8934-53d276520946",
   "metadata": {},
   "source": [
    "## Anhang"
   ]
  },
  {
   "cell_type": "markdown",
   "id": "d301254a-4ab8-495e-aea5-adc6e3dfc127",
   "metadata": {},
   "source": [
    "### Turtle\n",
    "Die Schildköte gibt es nicht nur als [gturtle](https://www.jython.ch/index.php?inhalt_links=navigation.inc.php&inhalt_mitte=turtle/turtledoc.html) für TigerJython oder unter [jturtle](https://github.com/shwars/jturtle) für Jupyter, sondern auch mit der Bibliothek [turtle](https://docs.python.org/3/library/turtle.html) im ganz normalen Python."
   ]
  },
  {
   "cell_type": "code",
   "execution_count": null,
   "id": "2ce01e50-e0f8-4962-a81c-5aaba3620445",
   "metadata": {},
   "outputs": [],
   "source": [
    "import jturtle as turtle\n",
    "\n",
    "turtle.forward(100)\n",
    "turtle.right(120)\n",
    "turtle.forward(100)\n",
    "turtle.right(120)\n",
    "turtle.forward(100)\n",
    "turtle.right(120)\n",
    "\n",
    "# show each step separately as single picture\n",
    "turtle.done(True)\n",
    "\n",
    "# show only the final result\n",
    "#turtle.done() "
   ]
  },
  {
   "cell_type": "markdown",
   "id": "8cb0ba22-3316-4198-b91d-85696fa0687c",
   "metadata": {},
   "source": [
    "### Flussdiagramme\n",
    "\n",
    "Algorithmen lassen sich gut in Flussdiagrammen darstellen. Diese kannst du bspw. auf https://mermaid.live/ zeichen und dann den Quellcode direkt in Jupyter einfügen.\n",
    "\n",
    "```mermaid\n",
    "flowchart LR\n",
    "\n",
    "A[Hard] -->|Text| B(Round)\n",
    "B --> C{Decision}\n",
    "C -->|One| D[Result 1]\n",
    "C -->|Two| E[Result 2]\n",
    "```"
   ]
  },
  {
   "cell_type": "markdown",
   "id": "22326176-01eb-4809-b341-1b24c8b73a67",
   "metadata": {},
   "source": [
    "### Entwicklungsumgebungen\n",
    "\n",
    "- https://tigerjython.ch/\n",
    "- https://webtigerpython.ethz.ch/\n",
    "- https://thonny.org/\n",
    "- https://jupyter.org/\n",
    "- https://cxedu.ethz.ch/\n",
    "- https://code.visualstudio.com/\n",
    "- u.v.m."
   ]
  },
  {
   "cell_type": "markdown",
   "id": "5293e132-4cdb-4420-ae11-193d7ceec037",
   "metadata": {},
   "source": [
    "### Hilfe und Lernen\n",
    "\n",
    "- https://pythonbuch.com\n",
    "- [TigerJython Spickzettel](https://github.com/zero-overhead/Tigerjython/blob/181a6e4904f0bee3723c37e6d4d78170d7085194/Spickzettel.pdf)\n",
    "- https://informatik.mygymer.ch/base/?book=programming-1\n",
    "- https://brilliant.org/courses/programming-python\n",
    "\n",
    "Wer tiefer einsteigen will\n",
    "\n",
    "- https://exercism.org/tracks/python\n",
    "- https://docs.python.org/3/tutorial/index.html\n",
    "- u.v.m."
   ]
  }
 ],
 "metadata": {
  "kernelspec": {
   "display_name": "Python 3 (ipykernel)",
   "language": "python",
   "name": "python3"
  },
  "language_info": {
   "codemirror_mode": {
    "name": "ipython",
    "version": 3
   },
   "file_extension": ".py",
   "mimetype": "text/x-python",
   "name": "python",
   "nbconvert_exporter": "python",
   "pygments_lexer": "ipython3",
   "version": "3.11.10"
  }
 },
 "nbformat": 4,
 "nbformat_minor": 5
}
