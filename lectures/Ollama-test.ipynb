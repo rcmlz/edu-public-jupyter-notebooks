{
 "cells": [
  {
   "cell_type": "markdown",
   "id": "aec67ab2-68a3-4473-9015-311ec4c11016",
   "metadata": {},
   "source": [
    "https://github.com/ollama/ollama-python"
   ]
  },
  {
   "cell_type": "code",
   "execution_count": null,
   "id": "3ec3b3e2-7ebb-48ab-8c18-fe984dc839d4",
   "metadata": {},
   "outputs": [],
   "source": [
    "from ollama import chat\n",
    "# default: ollama server auf http://127.0.0.1:11434"
   ]
  },
  {
   "cell_type": "code",
   "execution_count": null,
   "id": "c5cd32b0-adb2-4436-b395-27bdd13d5176",
   "metadata": {},
   "outputs": [],
   "source": [
    "# Message senden\n",
    "response = chat(\n",
    "    model='gemma3:270m', \n",
    "    messages=[\n",
    "        {'role': 'user', 'content': 'Why is the sky usually blue?'},\n",
    "    ]\n",
    ")\n",
    "\n",
    "# Antwort ausgeben\n",
    "print(response.message.content)"
   ]
  },
  {
   "cell_type": "code",
   "execution_count": null,
   "id": "c13c1964-6b8f-4baa-9fd0-a797c535cc7b",
   "metadata": {},
   "outputs": [],
   "source": [
    "# Noch eine Nachricht an den Ollama-Server senden\n",
    "stream = chat(\n",
    "    model='gemma3:270m',\n",
    "    messages=[\n",
    "        {'role': 'user', 'content': 'Why is the sky sometimes red?'}\n",
    "    ],\n",
    "    stream=True,\n",
    ")\n",
    "\n",
    "# Diesmal die Antwort Zeile für Zeile ausgeben:\n",
    "for chunk in stream:\n",
    "  print(chunk['message']['content'], end='', flush=True)"
   ]
  }
 ],
 "metadata": {
  "kernelspec": {
   "display_name": "Python 3",
   "language": "python",
   "name": "python3"
  },
  "language_info": {
   "codemirror_mode": {
    "name": "ipython",
    "version": 3
   },
   "file_extension": ".py",
   "mimetype": "text/x-python",
   "name": "python",
   "nbconvert_exporter": "python",
   "pygments_lexer": "ipython3",
   "version": "3.12.11"
  }
 },
 "nbformat": 4,
 "nbformat_minor": 5
}
